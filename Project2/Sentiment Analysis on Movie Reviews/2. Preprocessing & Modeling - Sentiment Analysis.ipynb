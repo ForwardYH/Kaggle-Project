{
 "cells": [
  {
   "cell_type": "code",
   "execution_count": 1,
   "metadata": {},
   "outputs": [
    {
     "name": "stderr",
     "output_type": "stream",
     "text": [
      "c:\\users\\youngh~1\\desktop\\gl-env\\lib\\site-packages\\sklearn\\cross_validation.py:44: DeprecationWarning: This module was deprecated in version 0.18 in favor of the model_selection module into which all the refactored classes and functions are moved. Also note that the interface of the new CV iterators are different from that of this module. This module will be removed in 0.20.\n",
      "  \"This module will be removed in 0.20.\", DeprecationWarning)\n"
     ]
    }
   ],
   "source": [
    "import re\n",
    "import pandas as pd\n",
    "import numpy as np\n",
    "import nltk\n",
    "from sklearn.feature_extraction.text import TfidfVectorizer\n",
    "from nltk.tag import pos_tag\n",
    "from nltk.stem import WordNetLemmatizer\n",
    "from sklearn.metrics import classification_report\n",
    "from sklearn.naive_bayes import MultinomialNB, GaussianNB\n",
    "from sklearn.ensemble import RandomForestClassifier, ExtraTreesClassifier\n",
    "from sklearn.svm import SVC\n",
    "from sklearn.linear_model import LogisticRegression\n",
    "from sklearn.cross_validation import train_test_split\n",
    "from sklearn.cross_validation import cross_val_score"
   ]
  },
  {
   "cell_type": "markdown",
   "metadata": {},
   "source": [
    "# Data Preprocessing"
   ]
  },
  {
   "cell_type": "code",
   "execution_count": 2,
   "metadata": {},
   "outputs": [
    {
     "data": {
      "text/html": [
       "<div>\n",
       "<style>\n",
       "    .dataframe thead tr:only-child th {\n",
       "        text-align: right;\n",
       "    }\n",
       "\n",
       "    .dataframe thead th {\n",
       "        text-align: left;\n",
       "    }\n",
       "\n",
       "    .dataframe tbody tr th {\n",
       "        vertical-align: top;\n",
       "    }\n",
       "</style>\n",
       "<table border=\"1\" class=\"dataframe\">\n",
       "  <thead>\n",
       "    <tr style=\"text-align: right;\">\n",
       "      <th></th>\n",
       "      <th>PhraseId</th>\n",
       "      <th>SentenceId</th>\n",
       "      <th>Phrase</th>\n",
       "      <th>Sentiment</th>\n",
       "    </tr>\n",
       "  </thead>\n",
       "  <tbody>\n",
       "    <tr>\n",
       "      <th>0</th>\n",
       "      <td>1</td>\n",
       "      <td>1</td>\n",
       "      <td>A series of escapades demonstrating the adage ...</td>\n",
       "      <td>1</td>\n",
       "    </tr>\n",
       "    <tr>\n",
       "      <th>1</th>\n",
       "      <td>2</td>\n",
       "      <td>1</td>\n",
       "      <td>A series of escapades demonstrating the adage ...</td>\n",
       "      <td>2</td>\n",
       "    </tr>\n",
       "    <tr>\n",
       "      <th>2</th>\n",
       "      <td>3</td>\n",
       "      <td>1</td>\n",
       "      <td>A series</td>\n",
       "      <td>2</td>\n",
       "    </tr>\n",
       "    <tr>\n",
       "      <th>3</th>\n",
       "      <td>4</td>\n",
       "      <td>1</td>\n",
       "      <td>A</td>\n",
       "      <td>2</td>\n",
       "    </tr>\n",
       "    <tr>\n",
       "      <th>4</th>\n",
       "      <td>5</td>\n",
       "      <td>1</td>\n",
       "      <td>series</td>\n",
       "      <td>2</td>\n",
       "    </tr>\n",
       "  </tbody>\n",
       "</table>\n",
       "</div>"
      ],
      "text/plain": [
       "   PhraseId  SentenceId                                             Phrase  \\\n",
       "0         1           1  A series of escapades demonstrating the adage ...   \n",
       "1         2           1  A series of escapades demonstrating the adage ...   \n",
       "2         3           1                                           A series   \n",
       "3         4           1                                                  A   \n",
       "4         5           1                                             series   \n",
       "\n",
       "   Sentiment  \n",
       "0          1  \n",
       "1          2  \n",
       "2          2  \n",
       "3          2  \n",
       "4          2  "
      ]
     },
     "execution_count": 2,
     "metadata": {},
     "output_type": "execute_result"
    }
   ],
   "source": [
    "train_df = pd.read_csv('train.tsv', sep='\\t')\n",
    "train_df.head()"
   ]
  },
  {
   "cell_type": "code",
   "execution_count": 3,
   "metadata": {
    "collapsed": true
   },
   "outputs": [],
   "source": [
    "# SentenceId 정리\n",
    "\n",
    "train_df_length = len(train_df)\n",
    "\n",
    "index_vector = np.empty(train_df_length, dtype='bool')\n",
    "\n",
    "sentenceid = 0\n",
    "for i in range(train_df_length):\n",
    "    if train_df['SentenceId'][i] != sentenceid:\n",
    "        sentenceid = train_df['SentenceId'][i]\n",
    "        index_vector[i] = True\n",
    "    else:\n",
    "        index_vector[i] = False\n",
    "\n",
    "train_df_filtered = train_df[index_vector]\n",
    "train_df_filtered[:3]\n",
    "train_df_filtered.index = range(0, len(train_df_filtered))"
   ]
  },
  {
   "cell_type": "code",
   "execution_count": 4,
   "metadata": {},
   "outputs": [
    {
     "name": "stdout",
     "output_type": "stream",
     "text": [
      "Case1 : SentenceId 정리했을 때 데이터 갯수 : 8529\n",
      "Case2 : SentenceId 정리하지 않았을 때 데이터 갯수 : 156060\n"
     ]
    }
   ],
   "source": [
    "print 'Case1 : SentenceId 정리했을 때 데이터 갯수 :' ,len(train_df_filtered.index)\n",
    "print 'Case2 : SentenceId 정리하지 않았을 때 데이터 갯수 :' ,len(train_df.index)"
   ]
  },
  {
   "cell_type": "markdown",
   "metadata": {},
   "source": [
    "* SentenceId 정리하고 나니까 데이터 갯수가 정말 많이 줄어들은 것을 확인할 수 있다."
   ]
  },
  {
   "cell_type": "code",
   "execution_count": 5,
   "metadata": {},
   "outputs": [
    {
     "name": "stderr",
     "output_type": "stream",
     "text": [
      "c:\\users\\youngh~1\\desktop\\gl-env\\lib\\site-packages\\ipykernel_launcher.py:3: SettingWithCopyWarning: \n",
      "A value is trying to be set on a copy of a slice from a DataFrame.\n",
      "Try using .loc[row_indexer,col_indexer] = value instead\n",
      "\n",
      "See the caveats in the documentation: http://pandas.pydata.org/pandas-docs/stable/indexing.html#indexing-view-versus-copy\n",
      "  This is separate from the ipykernel package so we can avoid doing imports until\n"
     ]
    },
    {
     "data": {
      "text/html": [
       "<div>\n",
       "<style>\n",
       "    .dataframe thead tr:only-child th {\n",
       "        text-align: right;\n",
       "    }\n",
       "\n",
       "    .dataframe thead th {\n",
       "        text-align: left;\n",
       "    }\n",
       "\n",
       "    .dataframe tbody tr th {\n",
       "        vertical-align: top;\n",
       "    }\n",
       "</style>\n",
       "<table border=\"1\" class=\"dataframe\">\n",
       "  <thead>\n",
       "    <tr style=\"text-align: right;\">\n",
       "      <th></th>\n",
       "      <th>PhraseId</th>\n",
       "      <th>SentenceId</th>\n",
       "      <th>Phrase</th>\n",
       "      <th>Sentiment</th>\n",
       "      <th>Split_Phrase</th>\n",
       "    </tr>\n",
       "  </thead>\n",
       "  <tbody>\n",
       "    <tr>\n",
       "      <th>0</th>\n",
       "      <td>1</td>\n",
       "      <td>1</td>\n",
       "      <td>A series of escapades demonstrating the adage ...</td>\n",
       "      <td>1</td>\n",
       "      <td>[a, series, of, escapades, demonstrating, the,...</td>\n",
       "    </tr>\n",
       "    <tr>\n",
       "      <th>1</th>\n",
       "      <td>64</td>\n",
       "      <td>2</td>\n",
       "      <td>This quiet , introspective and entertaining in...</td>\n",
       "      <td>4</td>\n",
       "      <td>[this, quiet, ,, introspective, and, entertain...</td>\n",
       "    </tr>\n",
       "    <tr>\n",
       "      <th>2</th>\n",
       "      <td>82</td>\n",
       "      <td>3</td>\n",
       "      <td>Even fans of Ismail Merchant 's work , I suspe...</td>\n",
       "      <td>1</td>\n",
       "      <td>[even, fans, of, ismail, merchant, 's, work, ,...</td>\n",
       "    </tr>\n",
       "    <tr>\n",
       "      <th>3</th>\n",
       "      <td>117</td>\n",
       "      <td>4</td>\n",
       "      <td>A positively thrilling combination of ethnogra...</td>\n",
       "      <td>3</td>\n",
       "      <td>[a, positively, thrilling, combination, of, et...</td>\n",
       "    </tr>\n",
       "    <tr>\n",
       "      <th>4</th>\n",
       "      <td>157</td>\n",
       "      <td>5</td>\n",
       "      <td>Aggressive self-glorification and a manipulati...</td>\n",
       "      <td>1</td>\n",
       "      <td>[aggressive, self-glorification, and, a, manip...</td>\n",
       "    </tr>\n",
       "  </tbody>\n",
       "</table>\n",
       "</div>"
      ],
      "text/plain": [
       "   PhraseId  SentenceId                                             Phrase  \\\n",
       "0         1           1  A series of escapades demonstrating the adage ...   \n",
       "1        64           2  This quiet , introspective and entertaining in...   \n",
       "2        82           3  Even fans of Ismail Merchant 's work , I suspe...   \n",
       "3       117           4  A positively thrilling combination of ethnogra...   \n",
       "4       157           5  Aggressive self-glorification and a manipulati...   \n",
       "\n",
       "   Sentiment                                       Split_Phrase  \n",
       "0          1  [a, series, of, escapades, demonstrating, the,...  \n",
       "1          4  [this, quiet, ,, introspective, and, entertain...  \n",
       "2          1  [even, fans, of, ismail, merchant, 's, work, ,...  \n",
       "3          3  [a, positively, thrilling, combination, of, et...  \n",
       "4          1  [aggressive, self-glorification, and, a, manip...  "
      ]
     },
     "execution_count": 5,
     "metadata": {},
     "output_type": "execute_result"
    }
   ],
   "source": [
    "#case1 SentenceId 정리 했을 때\n",
    "\n",
    "train_df_filtered['Split_Phrase'] = [[j.lower() for j in x.split()] for x in np.array(train_df_filtered['Phrase'])]\n",
    "train_df_filtered.head()"
   ]
  },
  {
   "cell_type": "code",
   "execution_count": 6,
   "metadata": {},
   "outputs": [
    {
     "data": {
      "text/html": [
       "<div>\n",
       "<style>\n",
       "    .dataframe thead tr:only-child th {\n",
       "        text-align: right;\n",
       "    }\n",
       "\n",
       "    .dataframe thead th {\n",
       "        text-align: left;\n",
       "    }\n",
       "\n",
       "    .dataframe tbody tr th {\n",
       "        vertical-align: top;\n",
       "    }\n",
       "</style>\n",
       "<table border=\"1\" class=\"dataframe\">\n",
       "  <thead>\n",
       "    <tr style=\"text-align: right;\">\n",
       "      <th></th>\n",
       "      <th>PhraseId</th>\n",
       "      <th>SentenceId</th>\n",
       "      <th>Phrase</th>\n",
       "      <th>Sentiment</th>\n",
       "      <th>Split_Phrase</th>\n",
       "    </tr>\n",
       "  </thead>\n",
       "  <tbody>\n",
       "    <tr>\n",
       "      <th>0</th>\n",
       "      <td>1</td>\n",
       "      <td>1</td>\n",
       "      <td>A series of escapades demonstrating the adage ...</td>\n",
       "      <td>1</td>\n",
       "      <td>[a, series, of, escapades, demonstrating, the,...</td>\n",
       "    </tr>\n",
       "    <tr>\n",
       "      <th>1</th>\n",
       "      <td>2</td>\n",
       "      <td>1</td>\n",
       "      <td>A series of escapades demonstrating the adage ...</td>\n",
       "      <td>2</td>\n",
       "      <td>[a, series, of, escapades, demonstrating, the,...</td>\n",
       "    </tr>\n",
       "    <tr>\n",
       "      <th>2</th>\n",
       "      <td>3</td>\n",
       "      <td>1</td>\n",
       "      <td>A series</td>\n",
       "      <td>2</td>\n",
       "      <td>[a, series]</td>\n",
       "    </tr>\n",
       "    <tr>\n",
       "      <th>3</th>\n",
       "      <td>4</td>\n",
       "      <td>1</td>\n",
       "      <td>A</td>\n",
       "      <td>2</td>\n",
       "      <td>[a]</td>\n",
       "    </tr>\n",
       "    <tr>\n",
       "      <th>4</th>\n",
       "      <td>5</td>\n",
       "      <td>1</td>\n",
       "      <td>series</td>\n",
       "      <td>2</td>\n",
       "      <td>[series]</td>\n",
       "    </tr>\n",
       "  </tbody>\n",
       "</table>\n",
       "</div>"
      ],
      "text/plain": [
       "   PhraseId  SentenceId                                             Phrase  \\\n",
       "0         1           1  A series of escapades demonstrating the adage ...   \n",
       "1         2           1  A series of escapades demonstrating the adage ...   \n",
       "2         3           1                                           A series   \n",
       "3         4           1                                                  A   \n",
       "4         5           1                                             series   \n",
       "\n",
       "   Sentiment                                       Split_Phrase  \n",
       "0          1  [a, series, of, escapades, demonstrating, the,...  \n",
       "1          2  [a, series, of, escapades, demonstrating, the,...  \n",
       "2          2                                        [a, series]  \n",
       "3          2                                                [a]  \n",
       "4          2                                           [series]  "
      ]
     },
     "execution_count": 6,
     "metadata": {},
     "output_type": "execute_result"
    }
   ],
   "source": [
    "#case2 SentenceId 정리 하지 않았을 때\n",
    "\n",
    "train_df['Split_Phrase'] = [[j.lower() for j in x.split()] for x in np.array(train_df['Phrase'])]\n",
    "train_df.head()"
   ]
  },
  {
   "cell_type": "markdown",
   "metadata": {},
   "source": [
    "# Case 1"
   ]
  },
  {
   "cell_type": "markdown",
   "metadata": {},
   "source": [
    "### 아무래도 감정을 나타내는 품사는 주로 형용사이지만 부사, 동명사, 동사도 감정을 나타낼 수 있기 때문에 형용사, 부사, 동명사, 동사 단어를 뽑아보자.\n",
    "\n",
    "#### 1-1 SentenceId 정리 -> 감정단어 추출 -> 감정단어로만 모델 형성 -> 교차 검증으로 모델 퍼포먼스 평가"
   ]
  },
  {
   "cell_type": "code",
   "execution_count": 7,
   "metadata": {
    "scrolled": false
   },
   "outputs": [
    {
     "name": "stderr",
     "output_type": "stream",
     "text": [
      "c:\\users\\youngh~1\\desktop\\gl-env\\lib\\site-packages\\ipykernel_launcher.py:5: SettingWithCopyWarning: \n",
      "A value is trying to be set on a copy of a slice from a DataFrame.\n",
      "Try using .loc[row_indexer,col_indexer] = value instead\n",
      "\n",
      "See the caveats in the documentation: http://pandas.pydata.org/pandas-docs/stable/indexing.html#indexing-view-versus-copy\n",
      "  \"\"\"\n",
      "c:\\users\\youngh~1\\desktop\\gl-env\\lib\\site-packages\\ipykernel_launcher.py:13: SettingWithCopyWarning: \n",
      "A value is trying to be set on a copy of a slice from a DataFrame.\n",
      "Try using .loc[row_indexer,col_indexer] = value instead\n",
      "\n",
      "See the caveats in the documentation: http://pandas.pydata.org/pandas-docs/stable/indexing.html#indexing-view-versus-copy\n",
      "  del sys.path[0]\n"
     ]
    }
   ],
   "source": [
    "def using_pos_tag(frame):\n",
    "    total_list = []\n",
    "    frame_length = len(frame)\n",
    "    split_phrase = frame['Split_Phrase']\n",
    "    frame['Feeling_words'] = np.array('nan', dtype=object)\n",
    "    for i in range(frame_length):\n",
    "        each_row = pos_tag(split_phrase[i])\n",
    "        adj_list = []\n",
    "        for j, _ in enumerate(each_row):\n",
    "            if each_row[j][1] == 'JJ' or each_row[j][1] == 'RB' or each_row[j][1] == 'VBG' or each_row[j][1] == 'VB':\n",
    "                adj_list.append((each_row[j][0]))\n",
    "        total_list.append(adj_list)\n",
    "    frame['Feeling_words'] = total_list\n",
    "        \n",
    "    return frame\n",
    "\n",
    "#case1\n",
    "train_df_finished1 = using_pos_tag(train_df_filtered)\n",
    "#case2\n",
    "train_df_finished2 = using_pos_tag(train_df)"
   ]
  },
  {
   "cell_type": "code",
   "execution_count": 8,
   "metadata": {},
   "outputs": [
    {
     "name": "stderr",
     "output_type": "stream",
     "text": [
      "c:\\users\\youngh~1\\desktop\\gl-env\\lib\\site-packages\\ipykernel_launcher.py:1: SettingWithCopyWarning: \n",
      "A value is trying to be set on a copy of a slice from a DataFrame.\n",
      "Try using .loc[row_indexer,col_indexer] = value instead\n",
      "\n",
      "See the caveats in the documentation: http://pandas.pydata.org/pandas-docs/stable/indexing.html#indexing-view-versus-copy\n",
      "  \"\"\"Entry point for launching an IPython kernel.\n"
     ]
    },
    {
     "data": {
      "text/html": [
       "<div>\n",
       "<style>\n",
       "    .dataframe thead tr:only-child th {\n",
       "        text-align: right;\n",
       "    }\n",
       "\n",
       "    .dataframe thead th {\n",
       "        text-align: left;\n",
       "    }\n",
       "\n",
       "    .dataframe tbody tr th {\n",
       "        vertical-align: top;\n",
       "    }\n",
       "</style>\n",
       "<table border=\"1\" class=\"dataframe\">\n",
       "  <thead>\n",
       "    <tr style=\"text-align: right;\">\n",
       "      <th></th>\n",
       "      <th>PhraseId</th>\n",
       "      <th>SentenceId</th>\n",
       "      <th>Phrase</th>\n",
       "      <th>Sentiment</th>\n",
       "      <th>Split_Phrase</th>\n",
       "      <th>Feeling_words</th>\n",
       "    </tr>\n",
       "  </thead>\n",
       "  <tbody>\n",
       "    <tr>\n",
       "      <th>0</th>\n",
       "      <td>1</td>\n",
       "      <td>1</td>\n",
       "      <td>A series of escapades demonstrating the adage ...</td>\n",
       "      <td>1</td>\n",
       "      <td>[a, series, of, escapades, demonstrating, the,...</td>\n",
       "      <td>demonstrating:good:also:good:occasionally:much</td>\n",
       "    </tr>\n",
       "    <tr>\n",
       "      <th>1</th>\n",
       "      <td>64</td>\n",
       "      <td>2</td>\n",
       "      <td>This quiet , introspective and entertaining in...</td>\n",
       "      <td>4</td>\n",
       "      <td>[this, quiet, ,, introspective, and, entertain...</td>\n",
       "      <td>quiet:introspective:entertaining:independent:w...</td>\n",
       "    </tr>\n",
       "    <tr>\n",
       "      <th>2</th>\n",
       "      <td>82</td>\n",
       "      <td>3</td>\n",
       "      <td>Even fans of Ismail Merchant 's work , I suspe...</td>\n",
       "      <td>1</td>\n",
       "      <td>[even, fans, of, ismail, merchant, 's, work, ,...</td>\n",
       "      <td>even:ismail:i:have:hard:sitting</td>\n",
       "    </tr>\n",
       "    <tr>\n",
       "      <th>3</th>\n",
       "      <td>117</td>\n",
       "      <td>4</td>\n",
       "      <td>A positively thrilling combination of ethnogra...</td>\n",
       "      <td>3</td>\n",
       "      <td>[a, positively, thrilling, combination, of, et...</td>\n",
       "      <td>positively:thrilling:shakespearean</td>\n",
       "    </tr>\n",
       "    <tr>\n",
       "      <th>4</th>\n",
       "      <td>157</td>\n",
       "      <td>5</td>\n",
       "      <td>Aggressive self-glorification and a manipulati...</td>\n",
       "      <td>1</td>\n",
       "      <td>[aggressive, self-glorification, and, a, manip...</td>\n",
       "      <td>aggressive:manipulative</td>\n",
       "    </tr>\n",
       "  </tbody>\n",
       "</table>\n",
       "</div>"
      ],
      "text/plain": [
       "   PhraseId  SentenceId                                             Phrase  \\\n",
       "0         1           1  A series of escapades demonstrating the adage ...   \n",
       "1        64           2  This quiet , introspective and entertaining in...   \n",
       "2        82           3  Even fans of Ismail Merchant 's work , I suspe...   \n",
       "3       117           4  A positively thrilling combination of ethnogra...   \n",
       "4       157           5  Aggressive self-glorification and a manipulati...   \n",
       "\n",
       "   Sentiment                                       Split_Phrase  \\\n",
       "0          1  [a, series, of, escapades, demonstrating, the,...   \n",
       "1          4  [this, quiet, ,, introspective, and, entertain...   \n",
       "2          1  [even, fans, of, ismail, merchant, 's, work, ,...   \n",
       "3          3  [a, positively, thrilling, combination, of, et...   \n",
       "4          1  [aggressive, self-glorification, and, a, manip...   \n",
       "\n",
       "                                       Feeling_words  \n",
       "0     demonstrating:good:also:good:occasionally:much  \n",
       "1  quiet:introspective:entertaining:independent:w...  \n",
       "2                    even:ismail:i:have:hard:sitting  \n",
       "3                 positively:thrilling:shakespearean  \n",
       "4                            aggressive:manipulative  "
      ]
     },
     "execution_count": 8,
     "metadata": {},
     "output_type": "execute_result"
    }
   ],
   "source": [
    "train_df_finished1['Feeling_words'] = train_df_finished1['Feeling_words'].map(':'.join)\n",
    "train_df_finished1.head()"
   ]
  },
  {
   "cell_type": "code",
   "execution_count": 9,
   "metadata": {
    "collapsed": true
   },
   "outputs": [],
   "source": [
    "lemmatizer = WordNetLemmatizer()\n",
    "\n",
    "def lemmatize_tokens(tokens, lemmatizer):\n",
    "    lemmatizing = [lemmatizer.lemmatize(senti_word) for senti_word in tokens]\n",
    "    return lemmatizing\n",
    "\n",
    "def tokenizer(words):\n",
    "    filter_words = re.sub(r'[^a-zA-Z]', \" \", words)\n",
    "    tokens = nltk.word_tokenize(filter_words)\n",
    "    lemmas = lemmatize_tokens(tokens, lemmatizer)\n",
    "    return lemmas"
   ]
  },
  {
   "cell_type": "code",
   "execution_count": 12,
   "metadata": {},
   "outputs": [
    {
     "data": {
      "text/plain": [
       "(8529L, 6767L)"
      ]
     },
     "execution_count": 12,
     "metadata": {},
     "output_type": "execute_result"
    }
   ],
   "source": [
    "tfidf = TfidfVectorizer(analyzer='word', tokenizer=tokenizer)\n",
    "adjword_corpus = tfidf.fit_transform(train_df_finished1.Feeling_words.tolist()).todense()\n",
    "adjword_corpus.shape"
   ]
  },
  {
   "cell_type": "code",
   "execution_count": 13,
   "metadata": {},
   "outputs": [
    {
     "data": {
      "text/plain": [
       "(5543L, 6767L)"
      ]
     },
     "execution_count": 13,
     "metadata": {},
     "output_type": "execute_result"
    }
   ],
   "source": [
    "X_features = adjword_corpus\n",
    "target = train_df_finished1['Sentiment']\n",
    "x_train, x_test, y_train, y_test = train_test_split(X_features, target, test_size=0.35)\n",
    "x_train.shape"
   ]
  },
  {
   "cell_type": "code",
   "execution_count": 12,
   "metadata": {},
   "outputs": [
    {
     "name": "stdout",
     "output_type": "stream",
     "text": [
      "[u'unimaginative', u'miyazaki', u'pardon', u'limited', u'dynamic', u'ryoko', u'yellow', u'four', u'asian', u'hanging', u'conjuring', u'comically', u'bestowing', u'marching', u'increase', u'buddy', u'unanswered', u'superficially', u'recycle', u'pamela', u'immature', u'sway', u'evangelical', u'updated', u'comparatively', u'rescue', u'void', u'smack', u'foul', u'unsuspecting', u'screaming', u'courageous', u'picaresque', u'disturb', u'grueling', u'unexceptional', u'called', u'wooden', u'brimming', u'peerlessly', u'frozen', u'unrelated', u'wending', u'stereotypical', u'howlingly', u'bordering', u'heading', u'winded', u'force', u'tired', u'miller', u'japanese', u'holocaust', u'elegant', u'second', u'valiant', u'shrugging', u'sterile', u'pander', u'hilariously', u'gawky', u'hate', u'hazy', u'new', u'conjure', u'ever', u'succumb', u'niche', u'hero', u'avert', u'intentioned', u'mel', u'men', u'disposable', u'weirdly', u'here', u'reported', u'ivy', u'entire', u'nosedive', u'shriek', u'interpret', u'natured', u'strewn', u'uplifting', u'soul', u'suitably', u'elaborate', u'piercing', u'ignoring', u'hokey', u'hannibal', u'karim', u'military', u'spotty', u'intrigue', u'astute', u'appropriately', u'fantastic', u'digitally', u'campaign', u'idealism', u'reagan', u'replace', u'psychological', u'bolado', u'ninety', u'moral', u'perhaps', u'labyrinthine', u'sexual', u'handedness', u'story', u'cannibal', u'music', u'therefore', u'recommend', u'strike', u'survive', u'liyan', u'leaky', u'type', u'tell', u'borstal', u'standardized', u'holy', u'wary', u'successful', u'oscar', u'georgian', u'hereby', u'whirling', u'yahoo', u'scuzzy', u'hurt', u'exuberantly', u'warm', u'adult', u'eternally', u'hole', u'hold', u'sorry', u'irksome', u'directorial', u'morally', u'room', u'pursue', u'blade', u'somber', u'straddle', u'unprovoked', u'suggestive', u'exploitative', u'akin', u'expressively', u'merchant', u'august', u'unforgettably', u'triple', u'give', u'aaliyah', u'peppering', u'recoing', u'want', u'cursory', u'gargantuan', u'absolute', u'preferably', u'provincial', u'titular', u'tchaikovsky', u'complaining', u'travel', u'drying', u'feature', u'hot', u'hop', u'edgy', u'main', u'place', u'preferable', u'classify', u'uncinematic', u'undergoing', u'replacing', u'reconciled', u'vicious', u'wrong', u'footed', u'misfit', u'lesbian', u'ambivalent', u'colorfully', u'execrable', u'attempt', u'effective', u'bluff', u'fleetingly', u'presiding', u'think']\n"
     ]
    }
   ],
   "source": [
    "# corpus가 어떻게 이루어져 있는가 ?\n",
    "print tfidf.vocabulary_.keys()[:200]"
   ]
  },
  {
   "cell_type": "markdown",
   "metadata": {},
   "source": [
    "* 다양한 모델로 학습을 시켜보았다. 하지만 Cross-Validation(교차 검증)을 했을 때 모든 모델에서의 Performance는 좋지 않다. 그나마 이 중에서도 LogisticRegression, Multinomial Naive Bayes, Linear Support Vecter Machine 방법이 퍼포먼스가 좋게 나왔다. \n",
    "\n",
    "\n",
    "* 어느정도 예상은 했지만 한문장에서 모든 단어들을 학습시킨 것이 아니라, 형용사, 동명사, 동사, 부사 단어들만 학습시켰기 때문에 만약 어떤 문장에서 이런 품사가 없는 경우는 학습시킬 단어들이 없기 때문에 학습을 정확히 시킬 수 없다. 그래서 다음 실험은 감정 단어들만 따로 뽑지 않은 경우에 전체 한 문장을 학습시킬 것이다."
   ]
  },
  {
   "cell_type": "code",
   "execution_count": 13,
   "metadata": {},
   "outputs": [
    {
     "name": "stdout",
     "output_type": "stream",
     "text": [
      "Model1 score : [ 0.35254833  0.34716848  0.34670891]\n",
      "Model2 score : [ 0.23479789  0.23496307  0.23160859]\n",
      "Model3 score : [ 0.343058    0.3506859   0.35093277]\n",
      "Model4 score : [ 0.31493849  0.29546254  0.30271031]\n",
      "Model5 score : [ 0.32302285  0.30918044  0.3093981 ]\n",
      "Model6 score : [ 0.34235501  0.3524446   0.34248504]\n",
      "Model7 score : [ 0.27205624  0.27224763  0.27208729]\n",
      "Model8 score : [ 0.27205624  0.27224763  0.27208729]\n"
     ]
    }
   ],
   "source": [
    "mnb = MultinomialNB()\n",
    "gnb = GaussianNB()\n",
    "lr = LogisticRegression()\n",
    "rfc = RandomForestClassifier()\n",
    "efc = ExtraTreesClassifier()\n",
    "linear_svm = SVC(kernel='linear', probability=True)\n",
    "rbf_svm = SVC(kernel='rbf', probability=True)\n",
    "sigmoid_svm = SVC(kernel='sigmoid', probability=True)\n",
    "\n",
    "clf_list = [mnb, gnb, lr, rfc, efc, linear_svm, rbf_svm, sigmoid_svm]\n",
    "\n",
    "for num, clf in enumerate(clf_list):\n",
    "    scores = cross_val_score(clf, X_features.todense(), target, cv=3, n_jobs = -1)\n",
    "    print 'Model{} score :'.format(num+1), scores"
   ]
  },
  {
   "cell_type": "markdown",
   "metadata": {},
   "source": [
    "#### 1-2 SentenceId 정리 -> 감정단어만 따로 쓰지 않고 전체 한 문장에 쓰인 단어들로 적용."
   ]
  },
  {
   "cell_type": "code",
   "execution_count": 14,
   "metadata": {},
   "outputs": [
    {
     "data": {
      "text/html": [
       "<div>\n",
       "<style>\n",
       "    .dataframe thead tr:only-child th {\n",
       "        text-align: right;\n",
       "    }\n",
       "\n",
       "    .dataframe thead th {\n",
       "        text-align: left;\n",
       "    }\n",
       "\n",
       "    .dataframe tbody tr th {\n",
       "        vertical-align: top;\n",
       "    }\n",
       "</style>\n",
       "<table border=\"1\" class=\"dataframe\">\n",
       "  <thead>\n",
       "    <tr style=\"text-align: right;\">\n",
       "      <th></th>\n",
       "      <th>PhraseId</th>\n",
       "      <th>SentenceId</th>\n",
       "      <th>Phrase</th>\n",
       "      <th>Sentiment</th>\n",
       "      <th>Split_Phrase</th>\n",
       "      <th>Feeling_words</th>\n",
       "    </tr>\n",
       "  </thead>\n",
       "  <tbody>\n",
       "    <tr>\n",
       "      <th>0</th>\n",
       "      <td>1</td>\n",
       "      <td>1</td>\n",
       "      <td>A series of escapades demonstrating the adage ...</td>\n",
       "      <td>1</td>\n",
       "      <td>[a, series, of, escapades, demonstrating, the,...</td>\n",
       "      <td>demonstrating:good:also:good:occasionally:much</td>\n",
       "    </tr>\n",
       "    <tr>\n",
       "      <th>1</th>\n",
       "      <td>64</td>\n",
       "      <td>2</td>\n",
       "      <td>This quiet , introspective and entertaining in...</td>\n",
       "      <td>4</td>\n",
       "      <td>[this, quiet, ,, introspective, and, entertain...</td>\n",
       "      <td>quiet:introspective:entertaining:independent:w...</td>\n",
       "    </tr>\n",
       "    <tr>\n",
       "      <th>2</th>\n",
       "      <td>82</td>\n",
       "      <td>3</td>\n",
       "      <td>Even fans of Ismail Merchant 's work , I suspe...</td>\n",
       "      <td>1</td>\n",
       "      <td>[even, fans, of, ismail, merchant, 's, work, ,...</td>\n",
       "      <td>even:ismail:i:have:hard:sitting</td>\n",
       "    </tr>\n",
       "    <tr>\n",
       "      <th>3</th>\n",
       "      <td>117</td>\n",
       "      <td>4</td>\n",
       "      <td>A positively thrilling combination of ethnogra...</td>\n",
       "      <td>3</td>\n",
       "      <td>[a, positively, thrilling, combination, of, et...</td>\n",
       "      <td>positively:thrilling:shakespearean</td>\n",
       "    </tr>\n",
       "    <tr>\n",
       "      <th>4</th>\n",
       "      <td>157</td>\n",
       "      <td>5</td>\n",
       "      <td>Aggressive self-glorification and a manipulati...</td>\n",
       "      <td>1</td>\n",
       "      <td>[aggressive, self-glorification, and, a, manip...</td>\n",
       "      <td>aggressive:manipulative</td>\n",
       "    </tr>\n",
       "  </tbody>\n",
       "</table>\n",
       "</div>"
      ],
      "text/plain": [
       "   PhraseId  SentenceId                                             Phrase  \\\n",
       "0         1           1  A series of escapades demonstrating the adage ...   \n",
       "1        64           2  This quiet , introspective and entertaining in...   \n",
       "2        82           3  Even fans of Ismail Merchant 's work , I suspe...   \n",
       "3       117           4  A positively thrilling combination of ethnogra...   \n",
       "4       157           5  Aggressive self-glorification and a manipulati...   \n",
       "\n",
       "   Sentiment                                       Split_Phrase  \\\n",
       "0          1  [a, series, of, escapades, demonstrating, the,...   \n",
       "1          4  [this, quiet, ,, introspective, and, entertain...   \n",
       "2          1  [even, fans, of, ismail, merchant, 's, work, ,...   \n",
       "3          3  [a, positively, thrilling, combination, of, et...   \n",
       "4          1  [aggressive, self-glorification, and, a, manip...   \n",
       "\n",
       "                                       Feeling_words  \n",
       "0     demonstrating:good:also:good:occasionally:much  \n",
       "1  quiet:introspective:entertaining:independent:w...  \n",
       "2                    even:ismail:i:have:hard:sitting  \n",
       "3                 positively:thrilling:shakespearean  \n",
       "4                            aggressive:manipulative  "
      ]
     },
     "execution_count": 14,
     "metadata": {},
     "output_type": "execute_result"
    }
   ],
   "source": [
    "train_df_finished1.head()"
   ]
  },
  {
   "cell_type": "code",
   "execution_count": 15,
   "metadata": {},
   "outputs": [
    {
     "name": "stderr",
     "output_type": "stream",
     "text": [
      "c:\\users\\youngh~1\\desktop\\gl-env\\lib\\site-packages\\ipykernel_launcher.py:1: SettingWithCopyWarning: \n",
      "A value is trying to be set on a copy of a slice from a DataFrame.\n",
      "Try using .loc[row_indexer,col_indexer] = value instead\n",
      "\n",
      "See the caveats in the documentation: http://pandas.pydata.org/pandas-docs/stable/indexing.html#indexing-view-versus-copy\n",
      "  \"\"\"Entry point for launching an IPython kernel.\n"
     ]
    }
   ],
   "source": [
    "train_df_finished1['Split_Phrase'] = train_df_finished1['Split_Phrase'].map(':'.join)"
   ]
  },
  {
   "cell_type": "code",
   "execution_count": 16,
   "metadata": {},
   "outputs": [
    {
     "data": {
      "text/plain": [
       "(8529L, 13677L)"
      ]
     },
     "execution_count": 16,
     "metadata": {},
     "output_type": "execute_result"
    }
   ],
   "source": [
    "tfidf = TfidfVectorizer(analyzer='word', tokenizer=tokenizer)\n",
    "features = tfidf.fit_transform(train_df_finished1.Split_Phrase.tolist()).todense()\n",
    "features.shape"
   ]
  },
  {
   "cell_type": "code",
   "execution_count": 57,
   "metadata": {},
   "outputs": [
    {
     "name": "stdout",
     "output_type": "stream",
     "text": [
      "[u'unimaginative', u'ryoko', u'yellow', u'four', u'clotted', u'hanging', u'conjuring', u'woody', u'comically', u'shamble', u'payoff', u'crooned', u'hennings', u'pardon', u'wizardry', u'originality', u'superficially', u'stevenon', u'xtc', u'lore', u'lord', u'immature', u'digit', u'delf', u'bile', u'foul', u'screaming', u'picaresque', u'disturb', u'scholar', u'wooden', u'voyeur', u'wednesday', u'peerlessly', u'standout', u'succession', u'stereotypical', u'howlingly', u'straight', u'fritter', u'entertained', u'sturm', u'tired', u'miller', u'bacon', u'pulse', u'elegant', u'second', u'crisply', u'valiant', u'shrugging', u'distinctly', u'sterile', u'admire', u'deferred', u'ruthless', u'contributed', u'schmuck', u'videodrome', u'negated', u'marching', u'groupie', u'succumb', u'submerged', u'widget', u'hero', u'avert', u'reporter', u'intentioned', u'divertissement', u'error', u'here', u'reported', u'china', u'cult', u'shriek', u'natured', u'transfixes', u'substance', u'uplifting', u'k', u'controversy', u'kidd', u'karim', u'chemistry', u'dimness', u'military', u'spotty', u'shallower', u'criticism', u'appropriately', u'projection', u'classification', u'sweetest', u'summons', u'brought', u'unanswered', u'stern', u'scarier', u'insecurity', u'handedness', u'cannibal', u'greenfingers', u'music', u'telegraph', u'violently', u'strike', u'until', u'playboy', u'borstal', u'standardized', u'relay', u'successful', u'brings', u'georgian', u'hereby', u'whirling', u'yahoo', u'scuzzy', u'hurt', u'exuberantly', u'glass', u'holm', u'goddammit', u'hole', u'hold', u'sorry', u'irksome', u'morally', u'huppert', u'pursue', u'famed', u'accomplishment', u'straddle', u'example', u'expressively', u'wang', u'wane', u'household', u'beautifully', u'organized', u'peppering', u'recoing', u'pooper', u'bluescreen', u'arresting', u'caution', u'want', u'gargantuan', u'absolute', u'preferably', u'provincial', u'tchaikovsky', u'complaining', u'travel', u'drying', u'feature', u'machine', u'how', u'hot', u'dangerfield', u'hop', u'significance', u'place', u'preferable', u'classify', u'uncinematic', u'paste', u'beauty', u'funny', u'typed', u'survivable', u'modest', u'destined', u'turf', u'chump', u'period', u'colorfully', u'ballroom', u'effective', u'attracts', u'fleetingly', u'fictional', u'sickening', u'baggage', u'shocker', u'democratic', u'nonsensical', u'wing', u'wind', u'wine', u'blind', u'welcomed', u'dreamed', u'misdemeanor', u'vary', u'benefited', u'rewarded', u'wrought', u'impossibly']\n"
     ]
    }
   ],
   "source": [
    "print tfidf.vocabulary_.keys()[:200]"
   ]
  },
  {
   "cell_type": "markdown",
   "metadata": {},
   "source": [
    "* 감정단어들만 따로 추려서 모델링 했을 때 보다는 조금 나아졌지만 여전히 모든 모델에서의 퍼포먼스는 좋지 않다. 그나마 이 중에서 LogisticRegression, Linear Support Vector Machine 방법으로 Cross-Validation(교차 검증)을 했을 때 퍼포먼스가 좋게 나왔다.\n",
    "\n",
    "* 퍼포먼스가 좋지 않게 나오는 이유가 무엇일까 생각해보았다.\n",
    "    * 1**.전처리가 제대로 되지 않은 것 같다.**\n",
    "    \n",
    "        * 1-1. Stopwords 생성 X \n",
    "        \n",
    "            * Tokenizer 함수를 만들어서 단어가 아닌 것들을 제외했고, WordnetLemmatizer로 토큰들을 Lemmatizing 하면서 원형으로 만들었다. 하지만 이 중에서도 분명히 감정 분석을 하는 데 있어서 쓸모 없는 단어들이 분명히 있을 것이다. 만약 쓸모없는 단어들을 제거하는 stopwords를 만들어 주면 좀 더 정확한 분류를 할 수 있지 않을까?\n",
    "            \n",
    "        * 1-2. SentenceId 정리\n",
    "        \n",
    "            * SentenceId를 정리하면서 데이터의 수가 156060개에서 8529개로 확 줄었다. 그로 인해 데이터의 부족으로 인해서 학습하는 데 있어서 충분히 학습이 되지 않아서일까? 만약에 SentenceId를 정리 하지 않고 156060개의 데이터를 모두 활용하면 Sentiment(0~4)를 좀 더 좋은 퍼포먼스로 분류할 수 있을까?\n",
    "            \n",
    "    * 2**.코퍼스 구축**\n",
    "    \n",
    "        * 2-1. 기존 코퍼스의 Quality 부족\n",
    "        \n",
    "            * 기존 코퍼스의 질이 좋지 않기 때문일까? 만약에 기존 코퍼스에 부족한 부분을 채워줄 수 있는 단어들을 추가시켜 준다면 코퍼스의 Quality가 좋아 질 것이고 이것이 Performance를 좀 더 좋게 해주지 않을까?"
   ]
  },
  {
   "cell_type": "code",
   "execution_count": 58,
   "metadata": {},
   "outputs": [
    {
     "name": "stdout",
     "output_type": "stream",
     "text": [
      "Model1 score : [ 0.37680141  0.38832219  0.3843717 ]\n",
      "Model2 score : [ 0.29560633  0.27611678  0.28616684]\n",
      "Model3 score : [ 0.39472759  0.40626099  0.39528335]\n",
      "Model4 score : [ 0.30123023  0.30953218  0.31678986]\n",
      "Model5 score : [ 0.33743409  0.34189237  0.34037311]\n",
      "Model6 score : [ 0.38453427  0.4037988   0.40091517]\n",
      "Model7 score : [ 0.27205624  0.27224763  0.27208729]\n",
      "Model8 score : [ 0.27205624  0.27224763  0.27208729]\n"
     ]
    }
   ],
   "source": [
    "mnb = MultinomialNB()\n",
    "gnb = GaussianNB()\n",
    "lr = LogisticRegression()\n",
    "rfc = RandomForestClassifier()\n",
    "efc = ExtraTreesClassifier()\n",
    "linear_svm = SVC(kernel='linear', probability=True)\n",
    "rbf_svm = SVC(kernel='rbf', probability=True)\n",
    "sigmoid_svm = SVC(kernel='sigmoid', probability=True)\n",
    "\n",
    "clf_list = [mnb, gnb, lr, rfc, efc, linear_svm, rbf_svm, sigmoid_svm]\n",
    "\n",
    "for num, clf in enumerate(clf_list):\n",
    "    scores = cross_val_score(clf, features, target, cv=3, n_jobs = -1)\n",
    "    print 'Model{} score :'.format(num+1), scores"
   ]
  },
  {
   "cell_type": "markdown",
   "metadata": {},
   "source": [
    "* 감정 단어만 사용 했을 때보다 모든 단어들의 정보를 전부 사용했을 때 모델 퍼포먼스가 그나마 좋게 나왔기 때문에 모든 정보를 사용할 것이다."
   ]
  },
  {
   "cell_type": "code",
   "execution_count": 9,
   "metadata": {
    "collapsed": true
   },
   "outputs": [],
   "source": [
    "del train_df_finished2['Feeling_words']"
   ]
  },
  {
   "cell_type": "code",
   "execution_count": 10,
   "metadata": {},
   "outputs": [
    {
     "data": {
      "text/html": [
       "<div>\n",
       "<style>\n",
       "    .dataframe thead tr:only-child th {\n",
       "        text-align: right;\n",
       "    }\n",
       "\n",
       "    .dataframe thead th {\n",
       "        text-align: left;\n",
       "    }\n",
       "\n",
       "    .dataframe tbody tr th {\n",
       "        vertical-align: top;\n",
       "    }\n",
       "</style>\n",
       "<table border=\"1\" class=\"dataframe\">\n",
       "  <thead>\n",
       "    <tr style=\"text-align: right;\">\n",
       "      <th></th>\n",
       "      <th>PhraseId</th>\n",
       "      <th>SentenceId</th>\n",
       "      <th>Phrase</th>\n",
       "      <th>Sentiment</th>\n",
       "      <th>Split_Phrase</th>\n",
       "    </tr>\n",
       "  </thead>\n",
       "  <tbody>\n",
       "    <tr>\n",
       "      <th>0</th>\n",
       "      <td>1</td>\n",
       "      <td>1</td>\n",
       "      <td>A series of escapades demonstrating the adage ...</td>\n",
       "      <td>1</td>\n",
       "      <td>[a, series, of, escapades, demonstrating, the,...</td>\n",
       "    </tr>\n",
       "    <tr>\n",
       "      <th>1</th>\n",
       "      <td>2</td>\n",
       "      <td>1</td>\n",
       "      <td>A series of escapades demonstrating the adage ...</td>\n",
       "      <td>2</td>\n",
       "      <td>[a, series, of, escapades, demonstrating, the,...</td>\n",
       "    </tr>\n",
       "    <tr>\n",
       "      <th>2</th>\n",
       "      <td>3</td>\n",
       "      <td>1</td>\n",
       "      <td>A series</td>\n",
       "      <td>2</td>\n",
       "      <td>[a, series]</td>\n",
       "    </tr>\n",
       "    <tr>\n",
       "      <th>3</th>\n",
       "      <td>4</td>\n",
       "      <td>1</td>\n",
       "      <td>A</td>\n",
       "      <td>2</td>\n",
       "      <td>[a]</td>\n",
       "    </tr>\n",
       "    <tr>\n",
       "      <th>4</th>\n",
       "      <td>5</td>\n",
       "      <td>1</td>\n",
       "      <td>series</td>\n",
       "      <td>2</td>\n",
       "      <td>[series]</td>\n",
       "    </tr>\n",
       "  </tbody>\n",
       "</table>\n",
       "</div>"
      ],
      "text/plain": [
       "   PhraseId  SentenceId                                             Phrase  \\\n",
       "0         1           1  A series of escapades demonstrating the adage ...   \n",
       "1         2           1  A series of escapades demonstrating the adage ...   \n",
       "2         3           1                                           A series   \n",
       "3         4           1                                                  A   \n",
       "4         5           1                                             series   \n",
       "\n",
       "   Sentiment                                       Split_Phrase  \n",
       "0          1  [a, series, of, escapades, demonstrating, the,...  \n",
       "1          2  [a, series, of, escapades, demonstrating, the,...  \n",
       "2          2                                        [a, series]  \n",
       "3          2                                                [a]  \n",
       "4          2                                           [series]  "
      ]
     },
     "execution_count": 10,
     "metadata": {},
     "output_type": "execute_result"
    }
   ],
   "source": [
    "train_df_finished2.head()"
   ]
  },
  {
   "cell_type": "code",
   "execution_count": 11,
   "metadata": {
    "collapsed": true
   },
   "outputs": [],
   "source": [
    "#find_stop_words = train_df_finished2.Split_Phrase.apply(lambda x : ' '.join(x)).to_csv('find_stopwords2.csv')"
   ]
  },
  {
   "cell_type": "code",
   "execution_count": 12,
   "metadata": {},
   "outputs": [
    {
     "name": "stderr",
     "output_type": "stream",
     "text": [
      "c:\\users\\youngh~1\\desktop\\gl-env\\lib\\site-packages\\ipykernel_launcher.py:1: DeprecationWarning: \n",
      ".ix is deprecated. Please use\n",
      ".loc for label based indexing or\n",
      ".iloc for positional indexing\n",
      "\n",
      "See the documentation here:\n",
      "http://pandas.pydata.org/pandas-docs/stable/indexing.html#deprecate_ix\n",
      "  \"\"\"Entry point for launching an IPython kernel.\n"
     ]
    },
    {
     "data": {
      "text/html": [
       "<div>\n",
       "<style>\n",
       "    .dataframe thead tr:only-child th {\n",
       "        text-align: right;\n",
       "    }\n",
       "\n",
       "    .dataframe thead th {\n",
       "        text-align: left;\n",
       "    }\n",
       "\n",
       "    .dataframe tbody tr th {\n",
       "        vertical-align: top;\n",
       "    }\n",
       "</style>\n",
       "<table border=\"1\" class=\"dataframe\">\n",
       "  <thead>\n",
       "    <tr style=\"text-align: right;\">\n",
       "      <th></th>\n",
       "      <th>PhraseId</th>\n",
       "      <th>SentenceId</th>\n",
       "      <th>Phrase</th>\n",
       "      <th>Sentiment</th>\n",
       "      <th>Split_Phrase</th>\n",
       "    </tr>\n",
       "  </thead>\n",
       "  <tbody>\n",
       "    <tr>\n",
       "      <th>37</th>\n",
       "      <td>38</td>\n",
       "      <td>1</td>\n",
       "      <td>,</td>\n",
       "      <td>2</td>\n",
       "      <td>[,]</td>\n",
       "    </tr>\n",
       "  </tbody>\n",
       "</table>\n",
       "</div>"
      ],
      "text/plain": [
       "    PhraseId  SentenceId Phrase  Sentiment Split_Phrase\n",
       "37        38           1      ,          2          [,]"
      ]
     },
     "execution_count": 12,
     "metadata": {},
     "output_type": "execute_result"
    }
   ],
   "source": [
    "train_df_finished2.ix[[37]]"
   ]
  },
  {
   "cell_type": "code",
   "execution_count": 13,
   "metadata": {
    "collapsed": true
   },
   "outputs": [],
   "source": [
    "def get_stop_words(file = '.\\stopwords.txt'):\n",
    "    with open(file, 'r') as f:\n",
    "        stopword = f.read().split(',')\n",
    "    return stopword\n",
    "\n",
    "stopwords = get_stop_words()"
   ]
  },
  {
   "cell_type": "code",
   "execution_count": 14,
   "metadata": {
    "collapsed": true
   },
   "outputs": [],
   "source": [
    "import graphlab as gl"
   ]
  },
  {
   "cell_type": "code",
   "execution_count": 16,
   "metadata": {},
   "outputs": [
    {
     "name": "stdout",
     "output_type": "stream",
     "text": [
      "This non-commercial license of GraphLab Create for academic use is assigned to jyh0674@gmail.com and will expire on November 16, 2017.\n"
     ]
    },
    {
     "name": "stderr",
     "output_type": "stream",
     "text": [
      "[INFO] graphlab.cython.cy_server: GraphLab Create v2.1 started. Logging: C:\\Users\\YOUNGH~1\\AppData\\Local\\Temp\\graphlab_server_1495984997.log.0\n"
     ]
    }
   ],
   "source": [
    "traindata_sf = gl.SFrame(train_df_finished2)"
   ]
  },
  {
   "cell_type": "code",
   "execution_count": 17,
   "metadata": {
    "scrolled": false
   },
   "outputs": [
    {
     "data": {
      "text/html": [
       "<pre>WARNING: Column 'PhraseId' is excluded due to invalid column type (integer).</pre>"
      ],
      "text/plain": [
       "WARNING: Column 'PhraseId' is excluded due to invalid column type (integer)."
      ]
     },
     "metadata": {},
     "output_type": "display_data"
    },
    {
     "data": {
      "text/html": [
       "<pre>WARNING: Column 'SentenceId' is excluded due to invalid column type (integer).</pre>"
      ],
      "text/plain": [
       "WARNING: Column 'SentenceId' is excluded due to invalid column type (integer)."
      ]
     },
     "metadata": {},
     "output_type": "display_data"
    },
    {
     "data": {
      "text/html": [
       "<pre>WARNING: Column 'Sentiment' is excluded due to invalid column type (integer).</pre>"
      ],
      "text/plain": [
       "WARNING: Column 'Sentiment' is excluded due to invalid column type (integer)."
      ]
     },
     "metadata": {},
     "output_type": "display_data"
    },
    {
     "name": "stdout",
     "output_type": "stream",
     "text": [
      "PROGRESS: Creating a validation set from 5 percent of training data. This may take a while.\n",
      "          You can set ``validation_set=None`` to disable validation tracking.\n",
      "\n",
      "PROGRESS: The following methods are available for this type of problem.\n",
      "PROGRESS: BoostedTreesClassifier, RandomForestClassifier, DecisionTreeClassifier, LogisticClassifier\n",
      "PROGRESS: The returned model will be chosen according to validation accuracy.\n"
     ]
    },
    {
     "data": {
      "text/html": [
       "<pre>Boosted trees classifier:</pre>"
      ],
      "text/plain": [
       "Boosted trees classifier:"
      ]
     },
     "metadata": {},
     "output_type": "display_data"
    },
    {
     "data": {
      "text/html": [
       "<pre>--------------------------------------------------------</pre>"
      ],
      "text/plain": [
       "--------------------------------------------------------"
      ]
     },
     "metadata": {},
     "output_type": "display_data"
    },
    {
     "data": {
      "text/html": [
       "<pre>Number of examples          : 148100</pre>"
      ],
      "text/plain": [
       "Number of examples          : 148100"
      ]
     },
     "metadata": {},
     "output_type": "display_data"
    },
    {
     "data": {
      "text/html": [
       "<pre>Number of classes           : 5</pre>"
      ],
      "text/plain": [
       "Number of classes           : 5"
      ]
     },
     "metadata": {},
     "output_type": "display_data"
    },
    {
     "data": {
      "text/html": [
       "<pre>Number of feature columns   : 1</pre>"
      ],
      "text/plain": [
       "Number of feature columns   : 1"
      ]
     },
     "metadata": {},
     "output_type": "display_data"
    },
    {
     "data": {
      "text/html": [
       "<pre>Number of unpacked features : 16530</pre>"
      ],
      "text/plain": [
       "Number of unpacked features : 16530"
      ]
     },
     "metadata": {},
     "output_type": "display_data"
    },
    {
     "data": {
      "text/html": [
       "<pre>+-----------+--------------+-------------------+---------------------+-------------------+---------------------+</pre>"
      ],
      "text/plain": [
       "+-----------+--------------+-------------------+---------------------+-------------------+---------------------+"
      ]
     },
     "metadata": {},
     "output_type": "display_data"
    },
    {
     "data": {
      "text/html": [
       "<pre>| Iteration | Elapsed Time | Training-accuracy | Validation-accuracy | Training-log_loss | Validation-log_loss |</pre>"
      ],
      "text/plain": [
       "| Iteration | Elapsed Time | Training-accuracy | Validation-accuracy | Training-log_loss | Validation-log_loss |"
      ]
     },
     "metadata": {},
     "output_type": "display_data"
    },
    {
     "data": {
      "text/html": [
       "<pre>+-----------+--------------+-------------------+---------------------+-------------------+---------------------+</pre>"
      ],
      "text/plain": [
       "+-----------+--------------+-------------------+---------------------+-------------------+---------------------+"
      ]
     },
     "metadata": {},
     "output_type": "display_data"
    },
    {
     "data": {
      "text/html": [
       "<pre>| 1         | 0.462049     | 0.536239          | 0.533668            | 1.456246          | 1.457569            |</pre>"
      ],
      "text/plain": [
       "| 1         | 0.462049     | 0.536239          | 0.533668            | 1.456246          | 1.457569            |"
      ]
     },
     "metadata": {},
     "output_type": "display_data"
    },
    {
     "data": {
      "text/html": [
       "<pre>| 2         | 0.924439     | 0.538568          | 0.533166            | 1.368281          | 1.370516            |</pre>"
      ],
      "text/plain": [
       "| 2         | 0.924439     | 0.538568          | 0.533166            | 1.368281          | 1.370516            |"
      ]
     },
     "metadata": {},
     "output_type": "display_data"
    },
    {
     "data": {
      "text/html": [
       "<pre>| 3         | 1.386614     | 0.540891          | 0.534799            | 1.311152          | 1.314366            |</pre>"
      ],
      "text/plain": [
       "| 3         | 1.386614     | 0.540891          | 0.534799            | 1.311152          | 1.314366            |"
      ]
     },
     "metadata": {},
     "output_type": "display_data"
    },
    {
     "data": {
      "text/html": [
       "<pre>| 4         | 1.837976     | 0.543288          | 0.537312            | 1.271870          | 1.276041            |</pre>"
      ],
      "text/plain": [
       "| 4         | 1.837976     | 0.543288          | 0.537312            | 1.271870          | 1.276041            |"
      ]
     },
     "metadata": {},
     "output_type": "display_data"
    },
    {
     "data": {
      "text/html": [
       "<pre>| 5         | 2.309319     | 0.544814          | 0.536683            | 1.243787          | 1.248452            |</pre>"
      ],
      "text/plain": [
       "| 5         | 2.309319     | 0.544814          | 0.536683            | 1.243787          | 1.248452            |"
      ]
     },
     "metadata": {},
     "output_type": "display_data"
    },
    {
     "data": {
      "text/html": [
       "<pre>| 6         | 2.744318     | 0.546523          | 0.538568            | 1.222804          | 1.228682            |</pre>"
      ],
      "text/plain": [
       "| 6         | 2.744318     | 0.546523          | 0.538568            | 1.222804          | 1.228682            |"
      ]
     },
     "metadata": {},
     "output_type": "display_data"
    },
    {
     "data": {
      "text/html": [
       "<pre>| 10        | 4.521037     | 0.552390          | 0.541834            | 1.174364          | 1.184491            |</pre>"
      ],
      "text/plain": [
       "| 10        | 4.521037     | 0.552390          | 0.541834            | 1.174364          | 1.184491            |"
      ]
     },
     "metadata": {},
     "output_type": "display_data"
    },
    {
     "data": {
      "text/html": [
       "<pre>+-----------+--------------+-------------------+---------------------+-------------------+---------------------+</pre>"
      ],
      "text/plain": [
       "+-----------+--------------+-------------------+---------------------+-------------------+---------------------+"
      ]
     },
     "metadata": {},
     "output_type": "display_data"
    },
    {
     "data": {
      "text/html": [
       "<pre>Random forest classifier:</pre>"
      ],
      "text/plain": [
       "Random forest classifier:"
      ]
     },
     "metadata": {},
     "output_type": "display_data"
    },
    {
     "data": {
      "text/html": [
       "<pre>--------------------------------------------------------</pre>"
      ],
      "text/plain": [
       "--------------------------------------------------------"
      ]
     },
     "metadata": {},
     "output_type": "display_data"
    },
    {
     "data": {
      "text/html": [
       "<pre>Number of examples          : 148100</pre>"
      ],
      "text/plain": [
       "Number of examples          : 148100"
      ]
     },
     "metadata": {},
     "output_type": "display_data"
    },
    {
     "data": {
      "text/html": [
       "<pre>Number of classes           : 5</pre>"
      ],
      "text/plain": [
       "Number of classes           : 5"
      ]
     },
     "metadata": {},
     "output_type": "display_data"
    },
    {
     "data": {
      "text/html": [
       "<pre>Number of feature columns   : 1</pre>"
      ],
      "text/plain": [
       "Number of feature columns   : 1"
      ]
     },
     "metadata": {},
     "output_type": "display_data"
    },
    {
     "data": {
      "text/html": [
       "<pre>Number of unpacked features : 16530</pre>"
      ],
      "text/plain": [
       "Number of unpacked features : 16530"
      ]
     },
     "metadata": {},
     "output_type": "display_data"
    },
    {
     "data": {
      "text/html": [
       "<pre>+-----------+--------------+-------------------+---------------------+-------------------+---------------------+</pre>"
      ],
      "text/plain": [
       "+-----------+--------------+-------------------+---------------------+-------------------+---------------------+"
      ]
     },
     "metadata": {},
     "output_type": "display_data"
    },
    {
     "data": {
      "text/html": [
       "<pre>| Iteration | Elapsed Time | Training-accuracy | Validation-accuracy | Training-log_loss | Validation-log_loss |</pre>"
      ],
      "text/plain": [
       "| Iteration | Elapsed Time | Training-accuracy | Validation-accuracy | Training-log_loss | Validation-log_loss |"
      ]
     },
     "metadata": {},
     "output_type": "display_data"
    },
    {
     "data": {
      "text/html": [
       "<pre>+-----------+--------------+-------------------+---------------------+-------------------+---------------------+</pre>"
      ],
      "text/plain": [
       "+-----------+--------------+-------------------+---------------------+-------------------+---------------------+"
      ]
     },
     "metadata": {},
     "output_type": "display_data"
    },
    {
     "data": {
      "text/html": [
       "<pre>| 1         | 0.460818     | 0.532957          | 0.529020            | 1.261033          | 1.263581            |</pre>"
      ],
      "text/plain": [
       "| 1         | 0.460818     | 0.532957          | 0.529020            | 1.261033          | 1.263581            |"
      ]
     },
     "metadata": {},
     "output_type": "display_data"
    },
    {
     "data": {
      "text/html": [
       "<pre>| 2         | 0.900312     | 0.536104          | 0.533920            | 1.252929          | 1.256130            |</pre>"
      ],
      "text/plain": [
       "| 2         | 0.900312     | 0.536104          | 0.533920            | 1.252929          | 1.256130            |"
      ]
     },
     "metadata": {},
     "output_type": "display_data"
    },
    {
     "data": {
      "text/html": [
       "<pre>| 3         | 1.337717     | 0.536847          | 0.531281            | 1.251127          | 1.255354            |</pre>"
      ],
      "text/plain": [
       "| 3         | 1.337717     | 0.536847          | 0.531281            | 1.251127          | 1.255354            |"
      ]
     },
     "metadata": {},
     "output_type": "display_data"
    },
    {
     "data": {
      "text/html": [
       "<pre>| 4         | 1.774175     | 0.536955          | 0.532538            | 1.250740          | 1.254521            |</pre>"
      ],
      "text/plain": [
       "| 4         | 1.774175     | 0.536955          | 0.532538            | 1.250740          | 1.254521            |"
      ]
     },
     "metadata": {},
     "output_type": "display_data"
    },
    {
     "data": {
      "text/html": [
       "<pre>| 5         | 2.209615     | 0.537562          | 0.531533            | 1.250277          | 1.253707            |</pre>"
      ],
      "text/plain": [
       "| 5         | 2.209615     | 0.537562          | 0.531533            | 1.250277          | 1.253707            |"
      ]
     },
     "metadata": {},
     "output_type": "display_data"
    },
    {
     "data": {
      "text/html": [
       "<pre>| 6         | 2.651672     | 0.537812          | 0.532161            | 1.249567          | 1.253222            |</pre>"
      ],
      "text/plain": [
       "| 6         | 2.651672     | 0.537812          | 0.532161            | 1.249567          | 1.253222            |"
      ]
     },
     "metadata": {},
     "output_type": "display_data"
    },
    {
     "data": {
      "text/html": [
       "<pre>| 10        | 4.351381     | 0.537866          | 0.536558            | 1.248518          | 1.251977            |</pre>"
      ],
      "text/plain": [
       "| 10        | 4.351381     | 0.537866          | 0.536558            | 1.248518          | 1.251977            |"
      ]
     },
     "metadata": {},
     "output_type": "display_data"
    },
    {
     "data": {
      "text/html": [
       "<pre>+-----------+--------------+-------------------+---------------------+-------------------+---------------------+</pre>"
      ],
      "text/plain": [
       "+-----------+--------------+-------------------+---------------------+-------------------+---------------------+"
      ]
     },
     "metadata": {},
     "output_type": "display_data"
    },
    {
     "data": {
      "text/html": [
       "<pre>Decision tree classifier:</pre>"
      ],
      "text/plain": [
       "Decision tree classifier:"
      ]
     },
     "metadata": {},
     "output_type": "display_data"
    },
    {
     "data": {
      "text/html": [
       "<pre>--------------------------------------------------------</pre>"
      ],
      "text/plain": [
       "--------------------------------------------------------"
      ]
     },
     "metadata": {},
     "output_type": "display_data"
    },
    {
     "data": {
      "text/html": [
       "<pre>Number of examples          : 148100</pre>"
      ],
      "text/plain": [
       "Number of examples          : 148100"
      ]
     },
     "metadata": {},
     "output_type": "display_data"
    },
    {
     "data": {
      "text/html": [
       "<pre>Number of classes           : 5</pre>"
      ],
      "text/plain": [
       "Number of classes           : 5"
      ]
     },
     "metadata": {},
     "output_type": "display_data"
    },
    {
     "data": {
      "text/html": [
       "<pre>Number of feature columns   : 1</pre>"
      ],
      "text/plain": [
       "Number of feature columns   : 1"
      ]
     },
     "metadata": {},
     "output_type": "display_data"
    },
    {
     "data": {
      "text/html": [
       "<pre>Number of unpacked features : 16530</pre>"
      ],
      "text/plain": [
       "Number of unpacked features : 16530"
      ]
     },
     "metadata": {},
     "output_type": "display_data"
    },
    {
     "data": {
      "text/html": [
       "<pre>+-----------+--------------+-------------------+---------------------+-------------------+---------------------+</pre>"
      ],
      "text/plain": [
       "+-----------+--------------+-------------------+---------------------+-------------------+---------------------+"
      ]
     },
     "metadata": {},
     "output_type": "display_data"
    },
    {
     "data": {
      "text/html": [
       "<pre>| Iteration | Elapsed Time | Training-accuracy | Validation-accuracy | Training-log_loss | Validation-log_loss |</pre>"
      ],
      "text/plain": [
       "| Iteration | Elapsed Time | Training-accuracy | Validation-accuracy | Training-log_loss | Validation-log_loss |"
      ]
     },
     "metadata": {},
     "output_type": "display_data"
    },
    {
     "data": {
      "text/html": [
       "<pre>+-----------+--------------+-------------------+---------------------+-------------------+---------------------+</pre>"
      ],
      "text/plain": [
       "+-----------+--------------+-------------------+---------------------+-------------------+---------------------+"
      ]
     },
     "metadata": {},
     "output_type": "display_data"
    },
    {
     "data": {
      "text/html": [
       "<pre>| 1         | 0.457542     | 0.536239          | 0.533668            | 1.456246          | 1.457569            |</pre>"
      ],
      "text/plain": [
       "| 1         | 0.457542     | 0.536239          | 0.533668            | 1.456246          | 1.457569            |"
      ]
     },
     "metadata": {},
     "output_type": "display_data"
    },
    {
     "data": {
      "text/html": [
       "<pre>+-----------+--------------+-------------------+---------------------+-------------------+---------------------+</pre>"
      ],
      "text/plain": [
       "+-----------+--------------+-------------------+---------------------+-------------------+---------------------+"
      ]
     },
     "metadata": {},
     "output_type": "display_data"
    },
    {
     "data": {
      "text/html": [
       "<pre>Logistic regression:</pre>"
      ],
      "text/plain": [
       "Logistic regression:"
      ]
     },
     "metadata": {},
     "output_type": "display_data"
    },
    {
     "data": {
      "text/html": [
       "<pre>--------------------------------------------------------</pre>"
      ],
      "text/plain": [
       "--------------------------------------------------------"
      ]
     },
     "metadata": {},
     "output_type": "display_data"
    },
    {
     "data": {
      "text/html": [
       "<pre>Number of examples          : 148100</pre>"
      ],
      "text/plain": [
       "Number of examples          : 148100"
      ]
     },
     "metadata": {},
     "output_type": "display_data"
    },
    {
     "data": {
      "text/html": [
       "<pre>Number of classes           : 5</pre>"
      ],
      "text/plain": [
       "Number of classes           : 5"
      ]
     },
     "metadata": {},
     "output_type": "display_data"
    },
    {
     "data": {
      "text/html": [
       "<pre>Number of feature columns   : 1</pre>"
      ],
      "text/plain": [
       "Number of feature columns   : 1"
      ]
     },
     "metadata": {},
     "output_type": "display_data"
    },
    {
     "data": {
      "text/html": [
       "<pre>Number of unpacked features : 16530</pre>"
      ],
      "text/plain": [
       "Number of unpacked features : 16530"
      ]
     },
     "metadata": {},
     "output_type": "display_data"
    },
    {
     "data": {
      "text/html": [
       "<pre>Number of coefficients    : 66124</pre>"
      ],
      "text/plain": [
       "Number of coefficients    : 66124"
      ]
     },
     "metadata": {},
     "output_type": "display_data"
    },
    {
     "data": {
      "text/html": [
       "<pre>Starting L-BFGS</pre>"
      ],
      "text/plain": [
       "Starting L-BFGS"
      ]
     },
     "metadata": {},
     "output_type": "display_data"
    },
    {
     "data": {
      "text/html": [
       "<pre>--------------------------------------------------------</pre>"
      ],
      "text/plain": [
       "--------------------------------------------------------"
      ]
     },
     "metadata": {},
     "output_type": "display_data"
    },
    {
     "data": {
      "text/html": [
       "<pre>+-----------+----------+-----------+--------------+-------------------+---------------------+</pre>"
      ],
      "text/plain": [
       "+-----------+----------+-----------+--------------+-------------------+---------------------+"
      ]
     },
     "metadata": {},
     "output_type": "display_data"
    },
    {
     "data": {
      "text/html": [
       "<pre>| Iteration | Passes   | Step size | Elapsed Time | Training-accuracy | Validation-accuracy |</pre>"
      ],
      "text/plain": [
       "| Iteration | Passes   | Step size | Elapsed Time | Training-accuracy | Validation-accuracy |"
      ]
     },
     "metadata": {},
     "output_type": "display_data"
    },
    {
     "data": {
      "text/html": [
       "<pre>+-----------+----------+-----------+--------------+-------------------+---------------------+</pre>"
      ],
      "text/plain": [
       "+-----------+----------+-----------+--------------+-------------------+---------------------+"
      ]
     },
     "metadata": {},
     "output_type": "display_data"
    },
    {
     "data": {
      "text/html": [
       "<pre>| 1         | 3        | 0.000007  | 0.388919     | 0.563126          | 0.540704            |</pre>"
      ],
      "text/plain": [
       "| 1         | 3        | 0.000007  | 0.388919     | 0.563126          | 0.540704            |"
      ]
     },
     "metadata": {},
     "output_type": "display_data"
    },
    {
     "data": {
      "text/html": [
       "<pre>| 2         | 5        | 1.000000  | 4.755683     | 0.651276          | 0.600126            |</pre>"
      ],
      "text/plain": [
       "| 2         | 5        | 1.000000  | 4.755683     | 0.651276          | 0.600126            |"
      ]
     },
     "metadata": {},
     "output_type": "display_data"
    },
    {
     "data": {
      "text/html": [
       "<pre>| 3         | 6        | 1.000000  | 8.893737     | 0.664497          | 0.607789            |</pre>"
      ],
      "text/plain": [
       "| 3         | 6        | 1.000000  | 8.893737     | 0.664497          | 0.607789            |"
      ]
     },
     "metadata": {},
     "output_type": "display_data"
    },
    {
     "data": {
      "text/html": [
       "<pre>| 4         | 7        | 1.000000  | 13.194662    | 0.651499          | 0.594347            |</pre>"
      ],
      "text/plain": [
       "| 4         | 7        | 1.000000  | 13.194662    | 0.651499          | 0.594347            |"
      ]
     },
     "metadata": {},
     "output_type": "display_data"
    },
    {
     "data": {
      "text/html": [
       "<pre>| 5         | 8        | 1.000000  | 17.475520    | 0.688271          | 0.610427            |</pre>"
      ],
      "text/plain": [
       "| 5         | 8        | 1.000000  | 17.475520    | 0.688271          | 0.610427            |"
      ]
     },
     "metadata": {},
     "output_type": "display_data"
    },
    {
     "data": {
      "text/html": [
       "<pre>| 6         | 9        | 1.000000  | 21.761036    | 0.694760          | 0.613693            |</pre>"
      ],
      "text/plain": [
       "| 6         | 9        | 1.000000  | 21.761036    | 0.694760          | 0.613693            |"
      ]
     },
     "metadata": {},
     "output_type": "display_data"
    },
    {
     "data": {
      "text/html": [
       "<pre>| 7         | 10       | 1.000000  | 25.777294    | 0.700506          | 0.627136            |</pre>"
      ],
      "text/plain": [
       "| 7         | 10       | 1.000000  | 25.777294    | 0.700506          | 0.627136            |"
      ]
     },
     "metadata": {},
     "output_type": "display_data"
    },
    {
     "data": {
      "text/html": [
       "<pre>| 8         | 11       | 1.000000  | 29.691994    | 0.709608          | 0.629523            |</pre>"
      ],
      "text/plain": [
       "| 8         | 11       | 1.000000  | 29.691994    | 0.709608          | 0.629523            |"
      ]
     },
     "metadata": {},
     "output_type": "display_data"
    },
    {
     "data": {
      "text/html": [
       "<pre>| 9         | 12       | 1.000000  | 33.707688    | 0.718413          | 0.634045            |</pre>"
      ],
      "text/plain": [
       "| 9         | 12       | 1.000000  | 33.707688    | 0.718413          | 0.634045            |"
      ]
     },
     "metadata": {},
     "output_type": "display_data"
    },
    {
     "data": {
      "text/html": [
       "<pre>| 10        | 13       | 1.000000  | 37.675741    | 0.723592          | 0.633794            |</pre>"
      ],
      "text/plain": [
       "| 10        | 13       | 1.000000  | 37.675741    | 0.723592          | 0.633794            |"
      ]
     },
     "metadata": {},
     "output_type": "display_data"
    },
    {
     "data": {
      "text/html": [
       "<pre>+-----------+----------+-----------+--------------+-------------------+---------------------+</pre>"
      ],
      "text/plain": [
       "+-----------+----------+-----------+--------------+-------------------+---------------------+"
      ]
     },
     "metadata": {},
     "output_type": "display_data"
    },
    {
     "data": {
      "text/html": [
       "<pre>TERMINATED: Iteration limit reached.</pre>"
      ],
      "text/plain": [
       "TERMINATED: Iteration limit reached."
      ]
     },
     "metadata": {},
     "output_type": "display_data"
    },
    {
     "data": {
      "text/html": [
       "<pre>This model may not be optimal. To improve it, consider increasing `max_iterations`.</pre>"
      ],
      "text/plain": [
       "This model may not be optimal. To improve it, consider increasing `max_iterations`."
      ]
     },
     "metadata": {},
     "output_type": "display_data"
    },
    {
     "name": "stdout",
     "output_type": "stream",
     "text": [
      "PROGRESS: Model selection based on validation accuracy:\n",
      "PROGRESS: ---------------------------------------------\n",
      "PROGRESS: BoostedTreesClassifier          : 0.541834175587\n",
      "PROGRESS: RandomForestClassifier          : 0.536557793617\n",
      "PROGRESS: DecisionTreeClassifier          : 0.533668339252\n",
      "PROGRESS: LogisticClassifier              : 0.633794\n",
      "PROGRESS: ---------------------------------------------\n",
      "PROGRESS: Selecting LogisticClassifier based on validation set performance.\n"
     ]
    }
   ],
   "source": [
    "encoder = gl.feature_engineering.TFIDF(excluded_features=stopwords)\n",
    "features = encoder.fit_transform(traindata_sf)\n",
    "model = gl.classifier.create(features, target='Sentiment', features=['Split_Phrase'])"
   ]
  },
  {
   "cell_type": "code",
   "execution_count": null,
   "metadata": {},
   "outputs": [
    {
     "name": "stderr",
     "output_type": "stream",
     "text": [
      "[INFO] graphlab.deploy.job: Validating job.\n",
      "[INFO] graphlab.deploy.job: Creating a LocalAsync environment called 'async'.\n",
      "[INFO] graphlab.deploy.map_job: Validation complete. Job: 'Model-Parameter-Search-May-28-2017-01-05-0300000' ready for execution\n",
      "[INFO] graphlab.deploy.map_job: Job: 'Model-Parameter-Search-May-28-2017-01-05-0300000' scheduled.\n",
      "[INFO] graphlab.deploy.job: Validating job.\n",
      "[INFO] graphlab.deploy.map_job: A job with name 'Model-Parameter-Search-May-28-2017-01-05-0300000' already exists. Renaming the job to 'Model-Parameter-Search-May-28-2017-01-05-0300000-59964'.\n",
      "[INFO] graphlab.deploy.map_job: Validation complete. Job: 'Model-Parameter-Search-May-28-2017-01-05-0300000-59964' ready for execution\n",
      "[INFO] graphlab.deploy.map_job: Job: 'Model-Parameter-Search-May-28-2017-01-05-0300000-59964' scheduled.\n",
      "[INFO] graphlab.deploy.job: Validating job.\n",
      "[INFO] graphlab.deploy.map_job: Validation complete. Job: 'Model-Parameter-Search-May-28-2017-01-05-0300001' ready for execution\n",
      "[INFO] graphlab.deploy.map_job: Job: 'Model-Parameter-Search-May-28-2017-01-05-0300001' scheduled.\n",
      "[INFO] graphlab.deploy.job: Validating job.\n",
      "[INFO] graphlab.deploy.map_job: Validation complete. Job: 'Model-Parameter-Search-May-28-2017-01-05-0300002' ready for execution\n",
      "[INFO] graphlab.deploy.map_job: Job: 'Model-Parameter-Search-May-28-2017-01-05-0300002' scheduled.\n"
     ]
    },
    {
     "data": {
      "text/html": [
       "<div style=\"max-height:1000px;max-width:1500px;overflow:auto;\"><table frame=\"box\" rules=\"cols\">\n",
       "    <tr>\n",
       "        <th style=\"padding-left: 1em; padding-right: 1em; text-align: center\">model_id</th>\n",
       "        <th style=\"padding-left: 1em; padding-right: 1em; text-align: center\">l1_penalty</th>\n",
       "        <th style=\"padding-left: 1em; padding-right: 1em; text-align: center\">l2_penalty</th>\n",
       "        <th style=\"padding-left: 1em; padding-right: 1em; text-align: center\">lbfgs_memory_level</th>\n",
       "        <th style=\"padding-left: 1em; padding-right: 1em; text-align: center\">target</th>\n",
       "        <th style=\"padding-left: 1em; padding-right: 1em; text-align: center\">training_accuracy</th>\n",
       "    </tr>\n",
       "    <tr>\n",
       "        <td style=\"padding-left: 1em; padding-right: 1em; text-align: center; vertical-align: top\">11</td>\n",
       "        <td style=\"padding-left: 1em; padding-right: 1em; text-align: center; vertical-align: top\">1.0</td>\n",
       "        <td style=\"padding-left: 1em; padding-right: 1em; text-align: center; vertical-align: top\">0.01</td>\n",
       "        <td style=\"padding-left: 1em; padding-right: 1em; text-align: center; vertical-align: top\">10</td>\n",
       "        <td style=\"padding-left: 1em; padding-right: 1em; text-align: center; vertical-align: top\">Sentiment</td>\n",
       "        <td style=\"padding-left: 1em; padding-right: 1em; text-align: center; vertical-align: top\">0.688786364219</td>\n",
       "    </tr>\n",
       "    <tr>\n",
       "        <td style=\"padding-left: 1em; padding-right: 1em; text-align: center; vertical-align: top\">10</td>\n",
       "        <td style=\"padding-left: 1em; padding-right: 1em; text-align: center; vertical-align: top\">0.5</td>\n",
       "        <td style=\"padding-left: 1em; padding-right: 1em; text-align: center; vertical-align: top\">0.01</td>\n",
       "        <td style=\"padding-left: 1em; padding-right: 1em; text-align: center; vertical-align: top\">10</td>\n",
       "        <td style=\"padding-left: 1em; padding-right: 1em; text-align: center; vertical-align: top\">Sentiment</td>\n",
       "        <td style=\"padding-left: 1em; padding-right: 1em; text-align: center; vertical-align: top\">0.688799179803</td>\n",
       "    </tr>\n",
       "    <tr>\n",
       "        <td style=\"padding-left: 1em; padding-right: 1em; text-align: center; vertical-align: top\">39</td>\n",
       "        <td style=\"padding-left: 1em; padding-right: 1em; text-align: center; vertical-align: top\">1.0</td>\n",
       "        <td style=\"padding-left: 1em; padding-right: 1em; text-align: center; vertical-align: top\">5.0</td>\n",
       "        <td style=\"padding-left: 1em; padding-right: 1em; text-align: center; vertical-align: top\">10</td>\n",
       "        <td style=\"padding-left: 1em; padding-right: 1em; text-align: center; vertical-align: top\">Sentiment</td>\n",
       "        <td style=\"padding-left: 1em; padding-right: 1em; text-align: center; vertical-align: top\">0.688799179803</td>\n",
       "    </tr>\n",
       "    <tr>\n",
       "        <td style=\"padding-left: 1em; padding-right: 1em; text-align: center; vertical-align: top\">38</td>\n",
       "        <td style=\"padding-left: 1em; padding-right: 1em; text-align: center; vertical-align: top\">0.5</td>\n",
       "        <td style=\"padding-left: 1em; padding-right: 1em; text-align: center; vertical-align: top\">5.0</td>\n",
       "        <td style=\"padding-left: 1em; padding-right: 1em; text-align: center; vertical-align: top\">10</td>\n",
       "        <td style=\"padding-left: 1em; padding-right: 1em; text-align: center; vertical-align: top\">Sentiment</td>\n",
       "        <td style=\"padding-left: 1em; padding-right: 1em; text-align: center; vertical-align: top\">0.688799179803</td>\n",
       "    </tr>\n",
       "    <tr>\n",
       "        <td style=\"padding-left: 1em; padding-right: 1em; text-align: center; vertical-align: top\">15</td>\n",
       "        <td style=\"padding-left: 1em; padding-right: 1em; text-align: center; vertical-align: top\">0.01</td>\n",
       "        <td style=\"padding-left: 1em; padding-right: 1em; text-align: center; vertical-align: top\">0.1</td>\n",
       "        <td style=\"padding-left: 1em; padding-right: 1em; text-align: center; vertical-align: top\">10</td>\n",
       "        <td style=\"padding-left: 1em; padding-right: 1em; text-align: center; vertical-align: top\">Sentiment</td>\n",
       "        <td style=\"padding-left: 1em; padding-right: 1em; text-align: center; vertical-align: top\">0.688831218762</td>\n",
       "    </tr>\n",
       "    <tr>\n",
       "        <td style=\"padding-left: 1em; padding-right: 1em; text-align: center; vertical-align: top\">14</td>\n",
       "        <td style=\"padding-left: 1em; padding-right: 1em; text-align: center; vertical-align: top\">0.0</td>\n",
       "        <td style=\"padding-left: 1em; padding-right: 1em; text-align: center; vertical-align: top\">0.1</td>\n",
       "        <td style=\"padding-left: 1em; padding-right: 1em; text-align: center; vertical-align: top\">10</td>\n",
       "        <td style=\"padding-left: 1em; padding-right: 1em; text-align: center; vertical-align: top\">Sentiment</td>\n",
       "        <td style=\"padding-left: 1em; padding-right: 1em; text-align: center; vertical-align: top\">0.713558887607</td>\n",
       "    </tr>\n",
       "    <tr>\n",
       "        <td style=\"padding-left: 1em; padding-right: 1em; text-align: center; vertical-align: top\">17</td>\n",
       "        <td style=\"padding-left: 1em; padding-right: 1em; text-align: center; vertical-align: top\">0.5</td>\n",
       "        <td style=\"padding-left: 1em; padding-right: 1em; text-align: center; vertical-align: top\">0.1</td>\n",
       "        <td style=\"padding-left: 1em; padding-right: 1em; text-align: center; vertical-align: top\">10</td>\n",
       "        <td style=\"padding-left: 1em; padding-right: 1em; text-align: center; vertical-align: top\">Sentiment</td>\n",
       "        <td style=\"padding-left: 1em; padding-right: 1em; text-align: center; vertical-align: top\">0.688799179803</td>\n",
       "    </tr>\n",
       "    <tr>\n",
       "        <td style=\"padding-left: 1em; padding-right: 1em; text-align: center; vertical-align: top\">16</td>\n",
       "        <td style=\"padding-left: 1em; padding-right: 1em; text-align: center; vertical-align: top\">0.1</td>\n",
       "        <td style=\"padding-left: 1em; padding-right: 1em; text-align: center; vertical-align: top\">0.1</td>\n",
       "        <td style=\"padding-left: 1em; padding-right: 1em; text-align: center; vertical-align: top\">10</td>\n",
       "        <td style=\"padding-left: 1em; padding-right: 1em; text-align: center; vertical-align: top\">Sentiment</td>\n",
       "        <td style=\"padding-left: 1em; padding-right: 1em; text-align: center; vertical-align: top\">0.688837626554</td>\n",
       "    </tr>\n",
       "    <tr>\n",
       "        <td style=\"padding-left: 1em; padding-right: 1em; text-align: center; vertical-align: top\">33</td>\n",
       "        <td style=\"padding-left: 1em; padding-right: 1em; text-align: center; vertical-align: top\">5.0</td>\n",
       "        <td style=\"padding-left: 1em; padding-right: 1em; text-align: center; vertical-align: top\">1.0</td>\n",
       "        <td style=\"padding-left: 1em; padding-right: 1em; text-align: center; vertical-align: top\">10</td>\n",
       "        <td style=\"padding-left: 1em; padding-right: 1em; text-align: center; vertical-align: top\">Sentiment</td>\n",
       "        <td style=\"padding-left: 1em; padding-right: 1em; text-align: center; vertical-align: top\">0.688581314879</td>\n",
       "    </tr>\n",
       "    <tr>\n",
       "        <td style=\"padding-left: 1em; padding-right: 1em; text-align: center; vertical-align: top\">32</td>\n",
       "        <td style=\"padding-left: 1em; padding-right: 1em; text-align: center; vertical-align: top\">1.0</td>\n",
       "        <td style=\"padding-left: 1em; padding-right: 1em; text-align: center; vertical-align: top\">1.0</td>\n",
       "        <td style=\"padding-left: 1em; padding-right: 1em; text-align: center; vertical-align: top\">10</td>\n",
       "        <td style=\"padding-left: 1em; padding-right: 1em; text-align: center; vertical-align: top\">Sentiment</td>\n",
       "        <td style=\"padding-left: 1em; padding-right: 1em; text-align: center; vertical-align: top\">0.688786364219</td>\n",
       "    </tr>\n",
       "</table>\n",
       "[196 rows x 6 columns]<br/>Note: Only the head of the SFrame is printed.<br/>You can use print_rows(num_rows=m, num_columns=n) to print more rows and columns.\n",
       "</div>"
      ],
      "text/plain": [
       "Columns:\n",
       "\tmodel_id\tint\n",
       "\tl1_penalty\tfloat\n",
       "\tl2_penalty\tfloat\n",
       "\tlbfgs_memory_level\tint\n",
       "\ttarget\tstr\n",
       "\ttraining_accuracy\tfloat\n",
       "\n",
       "Rows: 196\n",
       "\n",
       "Data:\n",
       "+----------+------------+------------+--------------------+-----------+\n",
       "| model_id | l1_penalty | l2_penalty | lbfgs_memory_level |   target  |\n",
       "+----------+------------+------------+--------------------+-----------+\n",
       "|    11    |    1.0     |    0.01    |         10         | Sentiment |\n",
       "|    10    |    0.5     |    0.01    |         10         | Sentiment |\n",
       "|    39    |    1.0     |    5.0     |         10         | Sentiment |\n",
       "|    38    |    0.5     |    5.0     |         10         | Sentiment |\n",
       "|    15    |    0.01    |    0.1     |         10         | Sentiment |\n",
       "|    14    |    0.0     |    0.1     |         10         | Sentiment |\n",
       "|    17    |    0.5     |    0.1     |         10         | Sentiment |\n",
       "|    16    |    0.1     |    0.1     |         10         | Sentiment |\n",
       "|    33    |    5.0     |    1.0     |         10         | Sentiment |\n",
       "|    32    |    1.0     |    1.0     |         10         | Sentiment |\n",
       "+----------+------------+------------+--------------------+-----------+\n",
       "+-------------------+\n",
       "| training_accuracy |\n",
       "+-------------------+\n",
       "|   0.688786364219  |\n",
       "|   0.688799179803  |\n",
       "|   0.688799179803  |\n",
       "|   0.688799179803  |\n",
       "|   0.688831218762  |\n",
       "|   0.713558887607  |\n",
       "|   0.688799179803  |\n",
       "|   0.688837626554  |\n",
       "|   0.688581314879  |\n",
       "|   0.688786364219  |\n",
       "+-------------------+\n",
       "[196 rows x 6 columns]\n",
       "Note: Only the head of the SFrame is printed.\n",
       "You can use print_rows(num_rows=m, num_columns=n) to print more rows and columns."
      ]
     },
     "execution_count": 29,
     "metadata": {},
     "output_type": "execute_result"
    }
   ],
   "source": [
    "params = dict([('target', 'Sentiment'),\n",
    "               ('l2_penalty', [0, 0.01, 0.1, 0.5, 1, 5, 10]),\n",
    "               ('l1_penalty', [0, 0.01, 0.1, 0.5, 1, 5, 10]),\n",
    "               ('lbfgs_memory_level', [10, 15, 20, 30])])\n",
    "                \n",
    "find_param = gl.grid_search.create(features, \n",
    "                                   gl.logistic_classifier.create, params)\n",
    "find_param.get_results()"
   ]
  },
  {
   "cell_type": "code",
   "execution_count": null,
   "metadata": {},
   "outputs": [
    {
     "data": {
      "text/plain": [
       "{'l1_penalty': 0,\n",
       " 'l2_penalty': 5,\n",
       " 'lbfgs_memory_level': 15,\n",
       " 'target': 'Sentiment'}"
      ]
     },
     "execution_count": 30,
     "metadata": {},
     "output_type": "execute_result"
    }
   ],
   "source": [
    "find_param.get_best_params()"
   ]
  },
  {
   "cell_type": "code",
   "execution_count": 26,
   "metadata": {},
   "outputs": [
    {
     "name": "stdout",
     "output_type": "stream",
     "text": [
      "PROGRESS: Creating a validation set from 5 percent of training data. This may take a while.\n",
      "          You can set ``validation_set=None`` to disable validation tracking.\n",
      "\n"
     ]
    },
    {
     "data": {
      "text/html": [
       "<pre>Logistic regression:</pre>"
      ],
      "text/plain": [
       "Logistic regression:"
      ]
     },
     "metadata": {},
     "output_type": "display_data"
    },
    {
     "data": {
      "text/html": [
       "<pre>--------------------------------------------------------</pre>"
      ],
      "text/plain": [
       "--------------------------------------------------------"
      ]
     },
     "metadata": {},
     "output_type": "display_data"
    },
    {
     "data": {
      "text/html": [
       "<pre>Number of examples          : 148284</pre>"
      ],
      "text/plain": [
       "Number of examples          : 148284"
      ]
     },
     "metadata": {},
     "output_type": "display_data"
    },
    {
     "data": {
      "text/html": [
       "<pre>Number of classes           : 5</pre>"
      ],
      "text/plain": [
       "Number of classes           : 5"
      ]
     },
     "metadata": {},
     "output_type": "display_data"
    },
    {
     "data": {
      "text/html": [
       "<pre>Number of feature columns   : 1</pre>"
      ],
      "text/plain": [
       "Number of feature columns   : 1"
      ]
     },
     "metadata": {},
     "output_type": "display_data"
    },
    {
     "data": {
      "text/html": [
       "<pre>Number of unpacked features : 16531</pre>"
      ],
      "text/plain": [
       "Number of unpacked features : 16531"
      ]
     },
     "metadata": {},
     "output_type": "display_data"
    },
    {
     "data": {
      "text/html": [
       "<pre>Number of coefficients    : 66128</pre>"
      ],
      "text/plain": [
       "Number of coefficients    : 66128"
      ]
     },
     "metadata": {},
     "output_type": "display_data"
    },
    {
     "data": {
      "text/html": [
       "<pre>Starting L-BFGS</pre>"
      ],
      "text/plain": [
       "Starting L-BFGS"
      ]
     },
     "metadata": {},
     "output_type": "display_data"
    },
    {
     "data": {
      "text/html": [
       "<pre>--------------------------------------------------------</pre>"
      ],
      "text/plain": [
       "--------------------------------------------------------"
      ]
     },
     "metadata": {},
     "output_type": "display_data"
    },
    {
     "data": {
      "text/html": [
       "<pre>+-----------+----------+-----------+--------------+-------------------+---------------------+</pre>"
      ],
      "text/plain": [
       "+-----------+----------+-----------+--------------+-------------------+---------------------+"
      ]
     },
     "metadata": {},
     "output_type": "display_data"
    },
    {
     "data": {
      "text/html": [
       "<pre>| Iteration | Passes   | Step size | Elapsed Time | Training-accuracy | Validation-accuracy |</pre>"
      ],
      "text/plain": [
       "| Iteration | Passes   | Step size | Elapsed Time | Training-accuracy | Validation-accuracy |"
      ]
     },
     "metadata": {},
     "output_type": "display_data"
    },
    {
     "data": {
      "text/html": [
       "<pre>+-----------+----------+-----------+--------------+-------------------+---------------------+</pre>"
      ],
      "text/plain": [
       "+-----------+----------+-----------+--------------+-------------------+---------------------+"
      ]
     },
     "metadata": {},
     "output_type": "display_data"
    },
    {
     "data": {
      "text/html": [
       "<pre>| 1         | 3        | 0.000007  | 0.402304     | 0.563358          | 0.539609            |</pre>"
      ],
      "text/plain": [
       "| 1         | 3        | 0.000007  | 0.402304     | 0.563358          | 0.539609            |"
      ]
     },
     "metadata": {},
     "output_type": "display_data"
    },
    {
     "data": {
      "text/html": [
       "<pre>| 2         | 5        | 1.000000  | 4.893629     | 0.650974          | 0.599794            |</pre>"
      ],
      "text/plain": [
       "| 2         | 5        | 1.000000  | 4.893629     | 0.650974          | 0.599794            |"
      ]
     },
     "metadata": {},
     "output_type": "display_data"
    },
    {
     "data": {
      "text/html": [
       "<pre>| 3         | 6        | 1.000000  | 9.006189     | 0.664590          | 0.611626            |</pre>"
      ],
      "text/plain": [
       "| 3         | 6        | 1.000000  | 9.006189     | 0.664590          | 0.611626            |"
      ]
     },
     "metadata": {},
     "output_type": "display_data"
    },
    {
     "data": {
      "text/html": [
       "<pre>| 4         | 7        | 1.000000  | 13.001370    | 0.655492          | 0.593750            |</pre>"
      ],
      "text/plain": [
       "| 4         | 7        | 1.000000  | 13.001370    | 0.655492          | 0.593750            |"
      ]
     },
     "metadata": {},
     "output_type": "display_data"
    },
    {
     "data": {
      "text/html": [
       "<pre>| 5         | 8        | 1.000000  | 17.604944    | 0.688341          | 0.616127            |</pre>"
      ],
      "text/plain": [
       "| 5         | 8        | 1.000000  | 17.604944    | 0.688341          | 0.616127            |"
      ]
     },
     "metadata": {},
     "output_type": "display_data"
    },
    {
     "data": {
      "text/html": [
       "<pre>| 6         | 9        | 1.000000  | 21.461393    | 0.694741          | 0.620499            |</pre>"
      ],
      "text/plain": [
       "| 6         | 9        | 1.000000  | 21.461393    | 0.694741          | 0.620499            |"
      ]
     },
     "metadata": {},
     "output_type": "display_data"
    },
    {
     "data": {
      "text/html": [
       "<pre>| 7         | 10       | 1.000000  | 25.330390    | 0.703319          | 0.632330            |</pre>"
      ],
      "text/plain": [
       "| 7         | 10       | 1.000000  | 25.330390    | 0.703319          | 0.632330            |"
      ]
     },
     "metadata": {},
     "output_type": "display_data"
    },
    {
     "data": {
      "text/html": [
       "<pre>| 8         | 11       | 1.000000  | 29.857037    | 0.713125          | 0.635031            |</pre>"
      ],
      "text/plain": [
       "| 8         | 11       | 1.000000  | 29.857037    | 0.713125          | 0.635031            |"
      ]
     },
     "metadata": {},
     "output_type": "display_data"
    },
    {
     "data": {
      "text/html": [
       "<pre>| 9         | 12       | 1.000000  | 34.115821    | 0.720334          | 0.633873            |</pre>"
      ],
      "text/plain": [
       "| 9         | 12       | 1.000000  | 34.115821    | 0.720334          | 0.633873            |"
      ]
     },
     "metadata": {},
     "output_type": "display_data"
    },
    {
     "data": {
      "text/html": [
       "<pre>| 10        | 13       | 1.000000  | 38.518875    | 0.724077          | 0.636445            |</pre>"
      ],
      "text/plain": [
       "| 10        | 13       | 1.000000  | 38.518875    | 0.724077          | 0.636445            |"
      ]
     },
     "metadata": {},
     "output_type": "display_data"
    },
    {
     "data": {
      "text/html": [
       "<pre>| 11        | 14       | 1.000000  | 42.879558    | 0.728663          | 0.641204            |</pre>"
      ],
      "text/plain": [
       "| 11        | 14       | 1.000000  | 42.879558    | 0.728663          | 0.641204            |"
      ]
     },
     "metadata": {},
     "output_type": "display_data"
    },
    {
     "data": {
      "text/html": [
       "<pre>| 12        | 15       | 1.000000  | 46.771663    | 0.730564          | 0.633230            |</pre>"
      ],
      "text/plain": [
       "| 12        | 15       | 1.000000  | 46.771663    | 0.730564          | 0.633230            |"
      ]
     },
     "metadata": {},
     "output_type": "display_data"
    },
    {
     "data": {
      "text/html": [
       "<pre>| 13        | 16       | 1.000000  | 50.747876    | 0.734685          | 0.636574            |</pre>"
      ],
      "text/plain": [
       "| 13        | 16       | 1.000000  | 50.747876    | 0.734685          | 0.636574            |"
      ]
     },
     "metadata": {},
     "output_type": "display_data"
    },
    {
     "data": {
      "text/html": [
       "<pre>| 14        | 17       | 1.000000  | 54.869187    | 0.737261          | 0.638632            |</pre>"
      ],
      "text/plain": [
       "| 14        | 17       | 1.000000  | 54.869187    | 0.737261          | 0.638632            |"
      ]
     },
     "metadata": {},
     "output_type": "display_data"
    },
    {
     "data": {
      "text/html": [
       "<pre>| 15        | 18       | 1.000000  | 59.044560    | 0.739304          | 0.635802            |</pre>"
      ],
      "text/plain": [
       "| 15        | 18       | 1.000000  | 59.044560    | 0.739304          | 0.635802            |"
      ]
     },
     "metadata": {},
     "output_type": "display_data"
    },
    {
     "data": {
      "text/html": [
       "<pre>| 16        | 19       | 1.000000  | 62.949525    | 0.741017          | 0.634645            |</pre>"
      ],
      "text/plain": [
       "| 16        | 19       | 1.000000  | 62.949525    | 0.741017          | 0.634645            |"
      ]
     },
     "metadata": {},
     "output_type": "display_data"
    },
    {
     "data": {
      "text/html": [
       "<pre>| 17        | 20       | 1.000000  | 67.077384    | 0.742042          | 0.637731            |</pre>"
      ],
      "text/plain": [
       "| 17        | 20       | 1.000000  | 67.077384    | 0.742042          | 0.637731            |"
      ]
     },
     "metadata": {},
     "output_type": "display_data"
    },
    {
     "data": {
      "text/html": [
       "<pre>| 18        | 21       | 1.000000  | 71.520340    | 0.743964          | 0.634388            |</pre>"
      ],
      "text/plain": [
       "| 18        | 21       | 1.000000  | 71.520340    | 0.743964          | 0.634388            |"
      ]
     },
     "metadata": {},
     "output_type": "display_data"
    },
    {
     "data": {
      "text/html": [
       "<pre>| 19        | 22       | 1.000000  | 76.324858    | 0.744962          | 0.635802            |</pre>"
      ],
      "text/plain": [
       "| 19        | 22       | 1.000000  | 76.324858    | 0.744962          | 0.635802            |"
      ]
     },
     "metadata": {},
     "output_type": "display_data"
    },
    {
     "data": {
      "text/html": [
       "<pre>| 20        | 23       | 1.000000  | 81.079741    | 0.746615          | 0.637346            |</pre>"
      ],
      "text/plain": [
       "| 20        | 23       | 1.000000  | 81.079741    | 0.746615          | 0.637346            |"
      ]
     },
     "metadata": {},
     "output_type": "display_data"
    },
    {
     "data": {
      "text/html": [
       "<pre>| 21        | 24       | 1.000000  | 85.308811    | 0.747269          | 0.639146            |</pre>"
      ],
      "text/plain": [
       "| 21        | 24       | 1.000000  | 85.308811    | 0.747269          | 0.639146            |"
      ]
     },
     "metadata": {},
     "output_type": "display_data"
    },
    {
     "data": {
      "text/html": [
       "<pre>| 22        | 25       | 1.000000  | 89.747443    | 0.747700          | 0.637346            |</pre>"
      ],
      "text/plain": [
       "| 22        | 25       | 1.000000  | 89.747443    | 0.747700          | 0.637346            |"
      ]
     },
     "metadata": {},
     "output_type": "display_data"
    },
    {
     "data": {
      "text/html": [
       "<pre>| 23        | 26       | 1.000000  | 93.626907    | 0.748321          | 0.637217            |</pre>"
      ],
      "text/plain": [
       "| 23        | 26       | 1.000000  | 93.626907    | 0.748321          | 0.637217            |"
      ]
     },
     "metadata": {},
     "output_type": "display_data"
    },
    {
     "data": {
      "text/html": [
       "<pre>| 24        | 27       | 1.000000  | 97.744456    | 0.748550          | 0.638117            |</pre>"
      ],
      "text/plain": [
       "| 24        | 27       | 1.000000  | 97.744456    | 0.748550          | 0.638117            |"
      ]
     },
     "metadata": {},
     "output_type": "display_data"
    },
    {
     "data": {
      "text/html": [
       "<pre>| 25        | 28       | 1.000000  | 101.868889   | 0.750054          | 0.636960            |</pre>"
      ],
      "text/plain": [
       "| 25        | 28       | 1.000000  | 101.868889   | 0.750054          | 0.636960            |"
      ]
     },
     "metadata": {},
     "output_type": "display_data"
    },
    {
     "data": {
      "text/html": [
       "<pre>+-----------+----------+-----------+--------------+-------------------+---------------------+</pre>"
      ],
      "text/plain": [
       "+-----------+----------+-----------+--------------+-------------------+---------------------+"
      ]
     },
     "metadata": {},
     "output_type": "display_data"
    },
    {
     "data": {
      "text/html": [
       "<pre>TERMINATED: Iteration limit reached.</pre>"
      ],
      "text/plain": [
       "TERMINATED: Iteration limit reached."
      ]
     },
     "metadata": {},
     "output_type": "display_data"
    },
    {
     "data": {
      "text/html": [
       "<pre>This model may not be optimal. To improve it, consider increasing `max_iterations`.</pre>"
      ],
      "text/plain": [
       "This model may not be optimal. To improve it, consider increasing `max_iterations`."
      ]
     },
     "metadata": {},
     "output_type": "display_data"
    }
   ],
   "source": [
    "model = gl.logistic_classifier.create(features, target='Sentiment', l1_penalty=0, l2_penalty=5, features=['Split_Phrase'], \n",
    "                                      max_iterations=25, lbfgs_memory_level=15)"
   ]
  },
  {
   "cell_type": "code",
   "execution_count": 27,
   "metadata": {
    "collapsed": true
   },
   "outputs": [],
   "source": [
    "model.save('sentiment_model')"
   ]
  },
  {
   "cell_type": "code",
   "execution_count": 25,
   "metadata": {},
   "outputs": [
    {
     "name": "stderr",
     "output_type": "stream",
     "text": [
      "[INFO] graphlab.deploy.job: Validating job.\n",
      "[INFO] graphlab.deploy.map_job: Validation complete. Job: 'Model-Parameter-Search-May-26-2017-16-56-3100000' ready for execution\n",
      "[INFO] graphlab.deploy.map_job: Job: 'Model-Parameter-Search-May-26-2017-16-56-3100000' scheduled.\n",
      "[INFO] graphlab.deploy.job: Validating job.\n",
      "[INFO] graphlab.deploy.map_job: A job with name 'Model-Parameter-Search-May-26-2017-16-56-3100000' already exists. Renaming the job to 'Model-Parameter-Search-May-26-2017-16-56-3100000-fc85f'.\n",
      "[INFO] graphlab.deploy.map_job: Validation complete. Job: 'Model-Parameter-Search-May-26-2017-16-56-3100000-fc85f' ready for execution\n",
      "[INFO] graphlab.deploy.map_job: Job: 'Model-Parameter-Search-May-26-2017-16-56-3100000-fc85f' scheduled.\n",
      "[INFO] graphlab.deploy.job: Validating job.\n",
      "[INFO] graphlab.deploy.map_job: Validation complete. Job: 'Model-Parameter-Search-May-26-2017-16-56-3100001' ready for execution\n",
      "[INFO] graphlab.deploy.map_job: Job: 'Model-Parameter-Search-May-26-2017-16-56-3100001' scheduled.\n",
      "[INFO] graphlab.deploy.job: Validating job.\n",
      "[INFO] graphlab.deploy.map_job: Validation complete. Job: 'Model-Parameter-Search-May-26-2017-16-56-3100002' ready for execution\n",
      "[INFO] graphlab.deploy.map_job: Job: 'Model-Parameter-Search-May-26-2017-16-56-3100002' scheduled.\n"
     ]
    },
    {
     "data": {
      "text/plain": [
       "{'l1_penalty': 0,\n",
       " 'l2_penalty': 0.4,\n",
       " 'lbfgs_memory_level': 10,\n",
       " 'target': 'Sentiment'}"
      ]
     },
     "execution_count": 25,
     "metadata": {},
     "output_type": "execute_result"
    }
   ],
   "source": [
    "params = dict([('target', 'Sentiment'),\n",
    "               ('l2_penalty', [0, 0.1, 0.2, 0.3, 0.4, 0.5, 0.6, 0.7, 0.8, 0.9]),\n",
    "               ('l1_penalty', [0, 0.1, 0.2, 0.3, 0.4, 0.5, 0.6, 0.7, 0.8, 0.9]),\n",
    "               ('lbfgs_memory_level', [1,10,20])])\n",
    "find_param2 = gl.grid_search.create(features, \n",
    "                                   gl.logistic_classifier.create, params)\n",
    "find_param2.get_best_params()"
   ]
  },
  {
   "cell_type": "code",
   "execution_count": 45,
   "metadata": {},
   "outputs": [
    {
     "name": "stdout",
     "output_type": "stream",
     "text": [
      "PROGRESS: Creating a validation set from 5 percent of training data. This may take a while.\n",
      "          You can set ``validation_set=None`` to disable validation tracking.\n",
      "\n"
     ]
    },
    {
     "data": {
      "text/html": [
       "<pre>Logistic regression:</pre>"
      ],
      "text/plain": [
       "Logistic regression:"
      ]
     },
     "metadata": {},
     "output_type": "display_data"
    },
    {
     "data": {
      "text/html": [
       "<pre>--------------------------------------------------------</pre>"
      ],
      "text/plain": [
       "--------------------------------------------------------"
      ]
     },
     "metadata": {},
     "output_type": "display_data"
    },
    {
     "data": {
      "text/html": [
       "<pre>Number of examples          : 103779</pre>"
      ],
      "text/plain": [
       "Number of examples          : 103779"
      ]
     },
     "metadata": {},
     "output_type": "display_data"
    },
    {
     "data": {
      "text/html": [
       "<pre>Number of classes           : 5</pre>"
      ],
      "text/plain": [
       "Number of classes           : 5"
      ]
     },
     "metadata": {},
     "output_type": "display_data"
    },
    {
     "data": {
      "text/html": [
       "<pre>Number of feature columns   : 1</pre>"
      ],
      "text/plain": [
       "Number of feature columns   : 1"
      ]
     },
     "metadata": {},
     "output_type": "display_data"
    },
    {
     "data": {
      "text/html": [
       "<pre>Number of unpacked features : 16511</pre>"
      ],
      "text/plain": [
       "Number of unpacked features : 16511"
      ]
     },
     "metadata": {},
     "output_type": "display_data"
    },
    {
     "data": {
      "text/html": [
       "<pre>Number of coefficients    : 66048</pre>"
      ],
      "text/plain": [
       "Number of coefficients    : 66048"
      ]
     },
     "metadata": {},
     "output_type": "display_data"
    },
    {
     "data": {
      "text/html": [
       "<pre>Starting L-BFGS</pre>"
      ],
      "text/plain": [
       "Starting L-BFGS"
      ]
     },
     "metadata": {},
     "output_type": "display_data"
    },
    {
     "data": {
      "text/html": [
       "<pre>--------------------------------------------------------</pre>"
      ],
      "text/plain": [
       "--------------------------------------------------------"
      ]
     },
     "metadata": {},
     "output_type": "display_data"
    },
    {
     "data": {
      "text/html": [
       "<pre>+-----------+----------+-----------+--------------+-------------------+---------------------+</pre>"
      ],
      "text/plain": [
       "+-----------+----------+-----------+--------------+-------------------+---------------------+"
      ]
     },
     "metadata": {},
     "output_type": "display_data"
    },
    {
     "data": {
      "text/html": [
       "<pre>| Iteration | Passes   | Step size | Elapsed Time | Training-accuracy | Validation-accuracy |</pre>"
      ],
      "text/plain": [
       "| Iteration | Passes   | Step size | Elapsed Time | Training-accuracy | Validation-accuracy |"
      ]
     },
     "metadata": {},
     "output_type": "display_data"
    },
    {
     "data": {
      "text/html": [
       "<pre>+-----------+----------+-----------+--------------+-------------------+---------------------+</pre>"
      ],
      "text/plain": [
       "+-----------+----------+-----------+--------------+-------------------+---------------------+"
      ]
     },
     "metadata": {},
     "output_type": "display_data"
    },
    {
     "data": {
      "text/html": [
       "<pre>| 1         | 3        | 0.000010  | 0.284012     | 0.571320          | 0.542798            |</pre>"
      ],
      "text/plain": [
       "| 1         | 3        | 0.000010  | 0.284012     | 0.571320          | 0.542798            |"
      ]
     },
     "metadata": {},
     "output_type": "display_data"
    },
    {
     "data": {
      "text/html": [
       "<pre>| 2         | 5        | 1.000000  | 3.167660     | 0.658206          | 0.591871            |</pre>"
      ],
      "text/plain": [
       "| 2         | 5        | 1.000000  | 3.167660     | 0.658206          | 0.591871            |"
      ]
     },
     "metadata": {},
     "output_type": "display_data"
    },
    {
     "data": {
      "text/html": [
       "<pre>| 3         | 6        | 1.000000  | 5.821818     | 0.674250          | 0.601985            |</pre>"
      ],
      "text/plain": [
       "| 3         | 6        | 1.000000  | 5.821818     | 0.674250          | 0.601985            |"
      ]
     },
     "metadata": {},
     "output_type": "display_data"
    },
    {
     "data": {
      "text/html": [
       "<pre>| 4         | 7        | 1.000000  | 8.472108     | 0.662620          | 0.581008            |</pre>"
      ],
      "text/plain": [
       "| 4         | 7        | 1.000000  | 8.472108     | 0.662620          | 0.581008            |"
      ]
     },
     "metadata": {},
     "output_type": "display_data"
    },
    {
     "data": {
      "text/html": [
       "<pre>| 5         | 8        | 1.000000  | 11.137404    | 0.702262          | 0.598614            |</pre>"
      ],
      "text/plain": [
       "| 5         | 8        | 1.000000  | 11.137404    | 0.702262          | 0.598614            |"
      ]
     },
     "metadata": {},
     "output_type": "display_data"
    },
    {
     "data": {
      "text/html": [
       "<pre>| 6         | 9        | 1.000000  | 14.670130    | 0.711098          | 0.606481            |</pre>"
      ],
      "text/plain": [
       "| 6         | 9        | 1.000000  | 14.670130    | 0.711098          | 0.606481            |"
      ]
     },
     "metadata": {},
     "output_type": "display_data"
    },
    {
     "data": {
      "text/html": [
       "<pre>| 7         | 10       | 1.000000  | 17.702059    | 0.722853          | 0.624649            |</pre>"
      ],
      "text/plain": [
       "| 7         | 10       | 1.000000  | 17.702059    | 0.722853          | 0.624649            |"
      ]
     },
     "metadata": {},
     "output_type": "display_data"
    },
    {
     "data": {
      "text/html": [
       "<pre>| 8         | 11       | 1.000000  | 20.786485    | 0.731304          | 0.622214            |</pre>"
      ],
      "text/plain": [
       "| 8         | 11       | 1.000000  | 20.786485    | 0.731304          | 0.622214            |"
      ]
     },
     "metadata": {},
     "output_type": "display_data"
    },
    {
     "data": {
      "text/html": [
       "<pre>| 9         | 12       | 1.000000  | 23.686136    | 0.737943          | 0.622588            |</pre>"
      ],
      "text/plain": [
       "| 9         | 12       | 1.000000  | 23.686136    | 0.737943          | 0.622588            |"
      ]
     },
     "metadata": {},
     "output_type": "display_data"
    },
    {
     "data": {
      "text/html": [
       "<pre>| 10        | 13       | 1.000000  | 26.618151    | 0.743975          | 0.622963            |</pre>"
      ],
      "text/plain": [
       "| 10        | 13       | 1.000000  | 26.618151    | 0.743975          | 0.622963            |"
      ]
     },
     "metadata": {},
     "output_type": "display_data"
    },
    {
     "data": {
      "text/html": [
       "<pre>| 11        | 14       | 1.000000  | 29.533599    | 0.749940          | 0.629519            |</pre>"
      ],
      "text/plain": [
       "| 11        | 14       | 1.000000  | 29.533599    | 0.749940          | 0.629519            |"
      ]
     },
     "metadata": {},
     "output_type": "display_data"
    },
    {
     "data": {
      "text/html": [
       "<pre>| 12        | 15       | 1.000000  | 32.449338    | 0.752647          | 0.627833            |</pre>"
      ],
      "text/plain": [
       "| 12        | 15       | 1.000000  | 32.449338    | 0.752647          | 0.627833            |"
      ]
     },
     "metadata": {},
     "output_type": "display_data"
    },
    {
     "data": {
      "text/html": [
       "<pre>| 13        | 16       | 1.000000  | 35.365835    | 0.756165          | 0.626335            |</pre>"
      ],
      "text/plain": [
       "| 13        | 16       | 1.000000  | 35.365835    | 0.756165          | 0.626335            |"
      ]
     },
     "metadata": {},
     "output_type": "display_data"
    },
    {
     "data": {
      "text/html": [
       "<pre>| 14        | 17       | 1.000000  | 38.264955    | 0.758574          | 0.626709            |</pre>"
      ],
      "text/plain": [
       "| 14        | 17       | 1.000000  | 38.264955    | 0.758574          | 0.626709            |"
      ]
     },
     "metadata": {},
     "output_type": "display_data"
    },
    {
     "data": {
      "text/html": [
       "<pre>| 15        | 18       | 1.000000  | 41.266046    | 0.761050          | 0.626896            |</pre>"
      ],
      "text/plain": [
       "| 15        | 18       | 1.000000  | 41.266046    | 0.761050          | 0.626896            |"
      ]
     },
     "metadata": {},
     "output_type": "display_data"
    },
    {
     "data": {
      "text/html": [
       "<pre>| 16        | 19       | 1.000000  | 44.180183    | 0.762341          | 0.628208            |</pre>"
      ],
      "text/plain": [
       "| 16        | 19       | 1.000000  | 44.180183    | 0.762341          | 0.628208            |"
      ]
     },
     "metadata": {},
     "output_type": "display_data"
    },
    {
     "data": {
      "text/html": [
       "<pre>| 17        | 20       | 1.000000  | 47.081163    | 0.764268          | 0.629706            |</pre>"
      ],
      "text/plain": [
       "| 17        | 20       | 1.000000  | 47.081163    | 0.764268          | 0.629706            |"
      ]
     },
     "metadata": {},
     "output_type": "display_data"
    },
    {
     "data": {
      "text/html": [
       "<pre>| 18        | 21       | 1.000000  | 49.995695    | 0.766244          | 0.630268            |</pre>"
      ],
      "text/plain": [
       "| 18        | 21       | 1.000000  | 49.995695    | 0.766244          | 0.630268            |"
      ]
     },
     "metadata": {},
     "output_type": "display_data"
    },
    {
     "data": {
      "text/html": [
       "<pre>| 19        | 22       | 1.000000  | 52.928965    | 0.767699          | 0.628395            |</pre>"
      ],
      "text/plain": [
       "| 19        | 22       | 1.000000  | 52.928965    | 0.767699          | 0.628395            |"
      ]
     },
     "metadata": {},
     "output_type": "display_data"
    },
    {
     "data": {
      "text/html": [
       "<pre>| 20        | 23       | 1.000000  | 55.878873    | 0.768865          | 0.631392            |</pre>"
      ],
      "text/plain": [
       "| 20        | 23       | 1.000000  | 55.878873    | 0.768865          | 0.631392            |"
      ]
     },
     "metadata": {},
     "output_type": "display_data"
    },
    {
     "data": {
      "text/html": [
       "<pre>| 21        | 24       | 1.000000  | 58.941621    | 0.770031          | 0.629893            |</pre>"
      ],
      "text/plain": [
       "| 21        | 24       | 1.000000  | 58.941621    | 0.770031          | 0.629893            |"
      ]
     },
     "metadata": {},
     "output_type": "display_data"
    },
    {
     "data": {
      "text/html": [
       "<pre>| 22        | 25       | 1.000000  | 61.926464    | 0.770753          | 0.629331            |</pre>"
      ],
      "text/plain": [
       "| 22        | 25       | 1.000000  | 61.926464    | 0.770753          | 0.629331            |"
      ]
     },
     "metadata": {},
     "output_type": "display_data"
    },
    {
     "data": {
      "text/html": [
       "<pre>| 23        | 26       | 1.000000  | 65.003509    | 0.771476          | 0.629144            |</pre>"
      ],
      "text/plain": [
       "| 23        | 26       | 1.000000  | 65.003509    | 0.771476          | 0.629144            |"
      ]
     },
     "metadata": {},
     "output_type": "display_data"
    },
    {
     "data": {
      "text/html": [
       "<pre>| 24        | 27       | 1.000000  | 67.926994    | 0.771842          | 0.624836            |</pre>"
      ],
      "text/plain": [
       "| 24        | 27       | 1.000000  | 67.926994    | 0.771842          | 0.624836            |"
      ]
     },
     "metadata": {},
     "output_type": "display_data"
    },
    {
     "data": {
      "text/html": [
       "<pre>| 25        | 28       | 1.000000  | 70.939175    | 0.772016          | 0.626335            |</pre>"
      ],
      "text/plain": [
       "| 25        | 28       | 1.000000  | 70.939175    | 0.772016          | 0.626335            |"
      ]
     },
     "metadata": {},
     "output_type": "display_data"
    },
    {
     "data": {
      "text/html": [
       "<pre>+-----------+----------+-----------+--------------+-------------------+---------------------+</pre>"
      ],
      "text/plain": [
       "+-----------+----------+-----------+--------------+-------------------+---------------------+"
      ]
     },
     "metadata": {},
     "output_type": "display_data"
    },
    {
     "data": {
      "text/html": [
       "<pre>TERMINATED: Iteration limit reached.</pre>"
      ],
      "text/plain": [
       "TERMINATED: Iteration limit reached."
      ]
     },
     "metadata": {},
     "output_type": "display_data"
    },
    {
     "data": {
      "text/html": [
       "<pre>This model may not be optimal. To improve it, consider increasing `max_iterations`.</pre>"
      ],
      "text/plain": [
       "This model may not be optimal. To improve it, consider increasing `max_iterations`."
      ]
     },
     "metadata": {},
     "output_type": "display_data"
    }
   ],
   "source": [
    "model2 = gl.logistic_classifier.create(features, target='Sentiment', l1_penalty=0, l2_penalty=0.4, features=['Split_Phrase'], \n",
    "                                       lbfgs_memory_level=10, max_iterations = 25)"
   ]
  },
  {
   "cell_type": "code",
   "execution_count": 48,
   "metadata": {},
   "outputs": [
    {
     "name": "stdout",
     "output_type": "stream",
     "text": [
      "+--------------+-----------------+-------+\n",
      "| target_label | predicted_label | count |\n",
      "+--------------+-----------------+-------+\n",
      "|      1       |        3        |  364  |\n",
      "|      0       |        2        |  284  |\n",
      "|      1       |        1        |  3850 |\n",
      "|      4       |        1        |   30  |\n",
      "|      1       |        0        |  740  |\n",
      "|      4       |        0        |   2   |\n",
      "|      3       |        4        |  1098 |\n",
      "|      3       |        3        |  4993 |\n",
      "|      2       |        0        |  262  |\n",
      "|      4       |        4        |  1158 |\n",
      "|      1       |        2        |  3215 |\n",
      "|      3       |        1        |  357  |\n",
      "|      3       |        0        |   34  |\n",
      "|      4       |        2        |  236  |\n",
      "|      4       |        3        |  1304 |\n",
      "|      0       |        3        |   31  |\n",
      "|      1       |        4        |   41  |\n",
      "|      2       |        1        |  2475 |\n",
      "|      3       |        2        |  3407 |\n",
      "|      0       |        4        |   12  |\n",
      "|      2       |        4        |  203  |\n",
      "|      2       |        2        | 18361 |\n",
      "|      2       |        3        |  2710 |\n",
      "|      0       |        1        |  1017 |\n",
      "|      0       |        0        |  758  |\n",
      "+--------------+-----------------+-------+\n",
      "[25 rows x 3 columns]\n",
      "\n",
      "Test Acuuracy 0.620339994035\n"
     ]
    }
   ],
   "source": [
    "test_features = encoder.transform(test_sf)\n",
    "test_result = model2.evaluate(test_features)\n",
    "test_result['confusion_matrix'].print_rows(num_rows=30)\n",
    "print 'Test Acuuracy', test_result['accuracy']"
   ]
  },
  {
   "cell_type": "code",
   "execution_count": 38,
   "metadata": {
    "collapsed": true
   },
   "outputs": [],
   "source": [
    "model2.save('Second_Model')"
   ]
  }
 ],
 "metadata": {
  "kernelspec": {
   "display_name": "Python 2",
   "language": "python",
   "name": "python2"
  },
  "language_info": {
   "codemirror_mode": {
    "name": "ipython",
    "version": 2
   },
   "file_extension": ".py",
   "mimetype": "text/x-python",
   "name": "python",
   "nbconvert_exporter": "python",
   "pygments_lexer": "ipython2",
   "version": "2.7.11"
  }
 },
 "nbformat": 4,
 "nbformat_minor": 1
}
